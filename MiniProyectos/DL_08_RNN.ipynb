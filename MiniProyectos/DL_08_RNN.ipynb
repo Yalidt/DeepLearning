{
  "nbformat": 4,
  "nbformat_minor": 0,
  "metadata": {
    "colab": {
      "name": "DL_08_RNN.ipynb",
      "provenance": [],
      "collapsed_sections": []
    },
    "kernelspec": {
      "display_name": "Python 3",
      "language": "python",
      "name": "python3"
    },
    "language_info": {
      "codemirror_mode": {
        "name": "ipython",
        "version": 3
      },
      "file_extension": ".py",
      "mimetype": "text/x-python",
      "name": "python",
      "nbconvert_exporter": "python",
      "pygments_lexer": "ipython3",
      "version": "3.8.3"
    }
  },
  "cells": [
    {
      "cell_type": "code",
      "metadata": {
        "id": "JHK4fTbnVkbF"
      },
      "source": [
        "# Example takend and adapted from:\n",
        "# https://towardsdatascience.com/predicting-stock-price-with-lstm-13af86a74944\n",
        "# Data from: https://www.kaggle.com/darkknight91/ge-stock"
      ],
      "execution_count": null,
      "outputs": []
    },
    {
      "cell_type": "code",
      "metadata": {
        "id": "-4gxt98JNLw6"
      },
      "source": [
        "#Libraries\n",
        "import io\n",
        "import requests\n",
        "import numpy as np\n",
        "import pandas as pd\n",
        "import matplotlib.pyplot as plt"
      ],
      "execution_count": null,
      "outputs": []
    },
    {
      "cell_type": "markdown",
      "metadata": {
        "id": "0D-TUfgD-S7R"
      },
      "source": [
        "# Parte 1: Carga y limpia los datos"
      ]
    },
    {
      "cell_type": "code",
      "metadata": {
        "id": "7Gw91-lATLts"
      },
      "source": [
        "#URL to read data\n",
        "url=\"https://raw.githubusercontent.com/Yalidt/DeepLearning/main/MiniProyectos/ge.us.txt?raw=true\"\n",
        "rurl=requests.get(url).content\n",
        "\n",
        "# Read data to pandas\n",
        "df = pd.read_csv(io.StringIO(rurl.decode('utf-8')))"
      ],
      "execution_count": null,
      "outputs": []
    },
    {
      "cell_type": "code",
      "metadata": {
        "colab": {
          "base_uri": "https://localhost:8080/",
          "height": 391
        },
        "id": "r2Rh0MiuTN37",
        "outputId": "eff16970-8d2c-4966-95c3-8b3747537f2a"
      },
      "source": [
        "# Drop NA's\n",
        "df.dropna(inplace=True)\n",
        "df"
      ],
      "execution_count": null,
      "outputs": [
        {
          "output_type": "execute_result",
          "data": {
            "text/html": [
              "<div>\n",
              "<style scoped>\n",
              "    .dataframe tbody tr th:only-of-type {\n",
              "        vertical-align: middle;\n",
              "    }\n",
              "\n",
              "    .dataframe tbody tr th {\n",
              "        vertical-align: top;\n",
              "    }\n",
              "\n",
              "    .dataframe thead th {\n",
              "        text-align: right;\n",
              "    }\n",
              "</style>\n",
              "<table border=\"1\" class=\"dataframe\">\n",
              "  <thead>\n",
              "    <tr style=\"text-align: right;\">\n",
              "      <th></th>\n",
              "      <th>Date</th>\n",
              "      <th>Open</th>\n",
              "      <th>High</th>\n",
              "      <th>Low</th>\n",
              "      <th>Close</th>\n",
              "      <th>Volume</th>\n",
              "      <th>OpenInt</th>\n",
              "    </tr>\n",
              "  </thead>\n",
              "  <tbody>\n",
              "    <tr>\n",
              "      <th>0</th>\n",
              "      <td>1962-01-02</td>\n",
              "      <td>0.6277</td>\n",
              "      <td>0.6362</td>\n",
              "      <td>0.6201</td>\n",
              "      <td>0.6201</td>\n",
              "      <td>2575579</td>\n",
              "      <td>0</td>\n",
              "    </tr>\n",
              "    <tr>\n",
              "      <th>1</th>\n",
              "      <td>1962-01-03</td>\n",
              "      <td>0.6201</td>\n",
              "      <td>0.6201</td>\n",
              "      <td>0.6122</td>\n",
              "      <td>0.6201</td>\n",
              "      <td>1764749</td>\n",
              "      <td>0</td>\n",
              "    </tr>\n",
              "    <tr>\n",
              "      <th>2</th>\n",
              "      <td>1962-01-04</td>\n",
              "      <td>0.6201</td>\n",
              "      <td>0.6201</td>\n",
              "      <td>0.6037</td>\n",
              "      <td>0.6122</td>\n",
              "      <td>2194010</td>\n",
              "      <td>0</td>\n",
              "    </tr>\n",
              "    <tr>\n",
              "      <th>3</th>\n",
              "      <td>1962-01-05</td>\n",
              "      <td>0.6122</td>\n",
              "      <td>0.6122</td>\n",
              "      <td>0.5798</td>\n",
              "      <td>0.5957</td>\n",
              "      <td>3255244</td>\n",
              "      <td>0</td>\n",
              "    </tr>\n",
              "    <tr>\n",
              "      <th>4</th>\n",
              "      <td>1962-01-08</td>\n",
              "      <td>0.5957</td>\n",
              "      <td>0.5957</td>\n",
              "      <td>0.5716</td>\n",
              "      <td>0.5957</td>\n",
              "      <td>3696430</td>\n",
              "      <td>0</td>\n",
              "    </tr>\n",
              "    <tr>\n",
              "      <th>...</th>\n",
              "      <td>...</td>\n",
              "      <td>...</td>\n",
              "      <td>...</td>\n",
              "      <td>...</td>\n",
              "      <td>...</td>\n",
              "      <td>...</td>\n",
              "      <td>...</td>\n",
              "    </tr>\n",
              "    <tr>\n",
              "      <th>14053</th>\n",
              "      <td>2017-11-06</td>\n",
              "      <td>20.5200</td>\n",
              "      <td>20.5300</td>\n",
              "      <td>20.0800</td>\n",
              "      <td>20.1300</td>\n",
              "      <td>60641787</td>\n",
              "      <td>0</td>\n",
              "    </tr>\n",
              "    <tr>\n",
              "      <th>14054</th>\n",
              "      <td>2017-11-07</td>\n",
              "      <td>20.1700</td>\n",
              "      <td>20.2500</td>\n",
              "      <td>20.1200</td>\n",
              "      <td>20.2100</td>\n",
              "      <td>41622851</td>\n",
              "      <td>0</td>\n",
              "    </tr>\n",
              "    <tr>\n",
              "      <th>14055</th>\n",
              "      <td>2017-11-08</td>\n",
              "      <td>20.2100</td>\n",
              "      <td>20.3200</td>\n",
              "      <td>20.0700</td>\n",
              "      <td>20.1200</td>\n",
              "      <td>39672190</td>\n",
              "      <td>0</td>\n",
              "    </tr>\n",
              "    <tr>\n",
              "      <th>14056</th>\n",
              "      <td>2017-11-09</td>\n",
              "      <td>20.0400</td>\n",
              "      <td>20.0710</td>\n",
              "      <td>19.8500</td>\n",
              "      <td>19.9900</td>\n",
              "      <td>50831779</td>\n",
              "      <td>0</td>\n",
              "    </tr>\n",
              "    <tr>\n",
              "      <th>14057</th>\n",
              "      <td>2017-11-10</td>\n",
              "      <td>19.9800</td>\n",
              "      <td>20.6800</td>\n",
              "      <td>19.9000</td>\n",
              "      <td>20.4900</td>\n",
              "      <td>100698474</td>\n",
              "      <td>0</td>\n",
              "    </tr>\n",
              "  </tbody>\n",
              "</table>\n",
              "<p>14058 rows × 7 columns</p>\n",
              "</div>"
            ],
            "text/plain": [
              "             Date     Open     High      Low    Close     Volume  OpenInt\n",
              "0      1962-01-02   0.6277   0.6362   0.6201   0.6201    2575579        0\n",
              "1      1962-01-03   0.6201   0.6201   0.6122   0.6201    1764749        0\n",
              "2      1962-01-04   0.6201   0.6201   0.6037   0.6122    2194010        0\n",
              "3      1962-01-05   0.6122   0.6122   0.5798   0.5957    3255244        0\n",
              "4      1962-01-08   0.5957   0.5957   0.5716   0.5957    3696430        0\n",
              "...           ...      ...      ...      ...      ...        ...      ...\n",
              "14053  2017-11-06  20.5200  20.5300  20.0800  20.1300   60641787        0\n",
              "14054  2017-11-07  20.1700  20.2500  20.1200  20.2100   41622851        0\n",
              "14055  2017-11-08  20.2100  20.3200  20.0700  20.1200   39672190        0\n",
              "14056  2017-11-09  20.0400  20.0710  19.8500  19.9900   50831779        0\n",
              "14057  2017-11-10  19.9800  20.6800  19.9000  20.4900  100698474        0\n",
              "\n",
              "[14058 rows x 7 columns]"
            ]
          },
          "metadata": {
            "tags": []
          },
          "execution_count": 55
        }
      ]
    },
    {
      "cell_type": "code",
      "metadata": {
        "colab": {
          "base_uri": "https://localhost:8080/"
        },
        "id": "tOJw3bV4VI6v",
        "outputId": "ed58ceac-a698-4dd0-e01a-8cbda78fac71"
      },
      "source": [
        "# Checking for NaN values.\n",
        "print(\"checking if any null values are present\\n\", df.isna().sum())"
      ],
      "execution_count": null,
      "outputs": [
        {
          "output_type": "stream",
          "text": [
            "checking if any null values are present\n",
            " Date       0\n",
            "Open       0\n",
            "High       0\n",
            "Low        0\n",
            "Close      0\n",
            "Volume     0\n",
            "OpenInt    0\n",
            "dtype: int64\n"
          ],
          "name": "stdout"
        }
      ]
    },
    {
      "cell_type": "code",
      "metadata": {
        "colab": {
          "base_uri": "https://localhost:8080/",
          "height": 295
        },
        "id": "ZVh1SRMcTc2S",
        "outputId": "87695cac-fe0d-41dc-fc62-34ff598a26ee"
      },
      "source": [
        "# Plot info\n",
        "plt.figure(figsize=(18, 4))\n",
        "plt.subplot(1, 2, 1)\n",
        "plt.plot(df[\"Open\"])\n",
        "plt.plot(df[\"High\"])\n",
        "plt.plot(df[\"Low\"])\n",
        "plt.plot(df[\"Close\"])\n",
        "plt.title('GE stock price history')\n",
        "plt.ylabel('Price (USD)')\n",
        "plt.xlabel('Days')\n",
        "plt.legend(['Open','High','Low','Close'], loc='upper left')\n",
        "plt.grid()\n",
        "\n",
        "plt.subplot(1, 2, 2)\n",
        "plt.plot(df[\"Volume\"])\n",
        "plt.title('GE stock volume history')\n",
        "plt.ylabel('Volume')\n",
        "plt.xlabel('Days')\n",
        "plt.grid()\n",
        "plt.show()"
      ],
      "execution_count": null,
      "outputs": [
        {
          "output_type": "display_data",
          "data": {
            "image/png": "[encoded data removed]",
            "text/plain": [
              "<Figure size 1296x288 with 2 Axes>"
            ]
          },
          "metadata": {
            "tags": [],
            "needs_background": "light"
          }
        }
      ]
    },
    {
      "cell_type": "code",
      "metadata": {
        "colab": {
          "base_uri": "https://localhost:8080/"
        },
        "id": "w6ybi7xcUWjD",
        "outputId": "ac114e33-efec-40de-bfbd-b4047b779e6f"
      },
      "source": [
        "# Split train and test sets\n",
        "from sklearn.model_selection import train_test_split\n",
        "\n",
        "df_train, df_test = train_test_split(df, train_size=0.8, test_size=0.2, shuffle=False)\n",
        "print(\"Train and Test size\", len(df_train), \"--\", len(df_test))\n",
        "# Still in DataFrame format"
      ],
      "execution_count": null,
      "outputs": [
        {
          "output_type": "stream",
          "text": [
            "Train and Test size 11246 -- 2812\n"
          ],
          "name": "stdout"
        }
      ]
    },
    {
      "cell_type": "code",
      "metadata": {
        "colab": {
          "base_uri": "https://localhost:8080/"
        },
        "id": "5NIYI213XPgx",
        "outputId": "d9f4b579-dca7-4864-cda7-a7f90481ba78"
      },
      "source": [
        "# Scale features and put them in matrix format (DataFrame --> Matrix)\n",
        "from sklearn.preprocessing import MinMaxScaler\n",
        "\n",
        "useful_cols = [\"Open\", \"High\", \"Low\", \"Close\", \"Volume\"]\n",
        "X = df_train.loc[:, useful_cols].values\n",
        "min_max_scaler = MinMaxScaler()\n",
        "X_train = min_max_scaler.fit_transform(X)\n",
        "X_test = min_max_scaler.transform(df_test.loc[:, useful_cols]) #transform the test with the train fit\n",
        "\n",
        "# Here we have two sets. One with 11246 timesteps, each of 5 features, and other\n",
        "# with 2812 timesteps, each of 5 features\n",
        "print(X_train.shape)\n",
        "print(X_test.shape)"
      ],
      "execution_count": null,
      "outputs": [
        {
          "output_type": "stream",
          "text": [
            "(11246, 5)\n",
            "(2812, 5)\n"
          ],
          "name": "stdout"
        }
      ]
    },
    {
      "cell_type": "code",
      "metadata": {
        "colab": {
          "base_uri": "https://localhost:8080/",
          "height": 295
        },
        "id": "Z0kIxmumXqx5",
        "outputId": "c60002ca-bb82-4e1b-e9ff-a98afebdd85a"
      },
      "source": [
        "# Plot info\n",
        "plt.figure(figsize=(18, 4))\n",
        "plt.subplot(1, 2, 1)\n",
        "plt.plot(X_train)\n",
        "plt.title('Training set')\n",
        "plt.ylabel('Price (USD)')\n",
        "plt.xlabel('Days')\n",
        "plt.legend(['Open','High','Low','Close', 'Volume'], loc='upper left')\n",
        "plt.grid()\n",
        "\n",
        "plt.subplot(1, 2, 2)\n",
        "plt.plot(X_test)\n",
        "plt.title('Test set')\n",
        "plt.ylabel('Volume')\n",
        "plt.xlabel('Days')\n",
        "plt.legend(['Open','High','Low','Close', 'Volume'], loc='upper left')\n",
        "plt.grid()\n",
        "plt.show()"
      ],
      "execution_count": null,
      "outputs": [
        {
          "output_type": "display_data",
          "data": {
            "image/png": "[encoded data removed]",
            "text/plain": [
              "<Figure size 1296x288 with 2 Axes>"
            ]
          },
          "metadata": {
            "tags": [],
            "needs_background": "light"
          }
        }
      ]
    },
    {
      "cell_type": "markdown",
      "metadata": {
        "id": "6Y1H83Y2-ceh"
      },
      "source": [
        "# Parte 2: Formatea los datos para procesarlos con RNNs"
      ]
    },
    {
      "cell_type": "code",
      "metadata": {
        "id": "J9MAuT4GXrWr"
      },
      "source": [
        "# GOAL:\n",
        "# Predict 'close' value, from 4 historic timesteps,\n",
        "# close[t] = f(x[t-1] ,x[t-2], x[t-3], x[t-4]; \\Omega),\n",
        "# where x[t] = [open, high, low, close, volume][t]"
      ],
      "execution_count": null,
      "outputs": []
    },
    {
      "cell_type": "code",
      "metadata": {
        "id": "Y81ziG5zj3Cb"
      },
      "source": [
        "# AUX funtion to build time-series dataset\n",
        "def build_dataset(X, Y, hist_size):\n",
        "  '''\n",
        "  Params\n",
        "    X: data matrix [n_time_steps, n_X_feats]\n",
        "    Y: label matrix [n_time_steps, n_Y_feats]\n",
        "    hist_size: integer indicating the number of time steps in each sample of x\n",
        "  Returns\n",
        "    x: tensor of input data [n_samples, n_timesteps, n_X_features]\n",
        "    y: tensor of output data [n_samples, n_Y_features]\n",
        "  '''\n",
        "  n_samples = Y.shape[0] - hist_size\n",
        "  x = np.zeros((n_samples, hist_size, X.shape[1])) #parameters :num vectors, n rows, n columns\n",
        "  y = np.zeros((n_samples))\n",
        "\n",
        "  for ind in range(n_samples):    \n",
        "    x[ind] = X[ind : ind + hist_size]\n",
        "    y[ind] = Y[ind + hist_size]\n",
        "  return x, y"
      ],
      "execution_count": null,
      "outputs": []
    },
    {
      "cell_type": "markdown",
      "metadata": {
        "id": "IIpNRddJcj6E"
      },
      "source": [
        "El objetivo de esta función es cambiar el formato de la serie de tiempo, que será nuestro input. Es algo parecido a promedio móviles, como se pide tener el histórico de 4 datos eso va haciendo manteniendo 4 siempre y quitando el mas viejo."
      ]
    },
    {
      "cell_type": "code",
      "metadata": {
        "colab": {
          "base_uri": "https://localhost:8080/"
        },
        "id": "te_n_3gVve7Z",
        "outputId": "21c773ec-b53e-4813-9e66-7b2932d70625"
      },
      "source": [
        "# Create time-series datasets: Use all features as input, and 'close' as output.\n",
        "time_steps = 4\n",
        "x_train, y_train = build_dataset(X_train, X_train[:, 3], time_steps) #X_train[:, 3] all rows from 3 column #Close is the target\n",
        "x_test,  y_test  = build_dataset(X_test,  X_test[:, 3],  time_steps)\n",
        "\n",
        "print(x_train.shape)\n",
        "print(x_test.shape)\n",
        "print(y_train.shape)\n",
        "print(y_test.shape)"
      ],
      "execution_count": null,
      "outputs": [
        {
          "output_type": "stream",
          "text": [
            "(11242, 4, 5)\n",
            "(2808, 4, 5)\n",
            "(11242,)\n",
            "(2808,)\n"
          ],
          "name": "stdout"
        }
      ]
    },
    {
      "cell_type": "code",
      "metadata": {
        "colab": {
          "base_uri": "https://localhost:8080/"
        },
        "id": "zJ1aWRoYvhkB",
        "outputId": "4396da23-3b25-4d71-8e11-b96b4b7e631f"
      },
      "source": [
        "# Print some examples\n",
        "print(\"Original first elements\")\n",
        "print(X_train[:10])\n",
        "print(\"\\nTime-series format of first elements x\")\n",
        "print(x_train[:4])\n",
        "print(\"\\nTime-series format of first elements y\")\n",
        "print(y_train[:4])"
      ],
      "execution_count": null,
      "outputs": [
        {
          "output_type": "stream",
          "text": [
            "Original first elements\n",
            "[[0.00356678 0.00352766 0.00358385 0.00338425 0.02108267]\n",
            " [0.00340607 0.00319219 0.00341628 0.00338425 0.01365459]\n",
            " [0.00340607 0.00319219 0.00323598 0.00321827 0.01758709]\n",
            " [0.00323903 0.00302758 0.00272904 0.00287161 0.02730914]\n",
            " [0.00289013 0.00268378 0.0025551  0.00287161 0.03135089]\n",
            " [0.00289013 0.00285047 0.00289873 0.00287161 0.02293968]\n",
            " [0.00289013 0.00285047 0.00306629 0.00287161 0.01889791]\n",
            " [0.00289013 0.00268378 0.00289873 0.00287161 0.01529311]\n",
            " [0.00289013 0.00285047 0.00289873 0.00270563 0.01594855]\n",
            " [0.00289013 0.00268378 0.00306629 0.00287161 0.02064569]]\n",
            "\n",
            "Time-series format of first elements x\n",
            "[[[0.00356678 0.00352766 0.00358385 0.00338425 0.02108267]\n",
            "  [0.00340607 0.00319219 0.00341628 0.00338425 0.01365459]\n",
            "  [0.00340607 0.00319219 0.00323598 0.00321827 0.01758709]\n",
            "  [0.00323903 0.00302758 0.00272904 0.00287161 0.02730914]]\n",
            "\n",
            " [[0.00340607 0.00319219 0.00341628 0.00338425 0.01365459]\n",
            "  [0.00340607 0.00319219 0.00323598 0.00321827 0.01758709]\n",
            "  [0.00323903 0.00302758 0.00272904 0.00287161 0.02730914]\n",
            "  [0.00289013 0.00268378 0.0025551  0.00287161 0.03135089]]\n",
            "\n",
            " [[0.00340607 0.00319219 0.00323598 0.00321827 0.01758709]\n",
            "  [0.00323903 0.00302758 0.00272904 0.00287161 0.02730914]\n",
            "  [0.00289013 0.00268378 0.0025551  0.00287161 0.03135089]\n",
            "  [0.00289013 0.00285047 0.00289873 0.00287161 0.02293968]]\n",
            "\n",
            " [[0.00323903 0.00302758 0.00272904 0.00287161 0.02730914]\n",
            "  [0.00289013 0.00268378 0.0025551  0.00287161 0.03135089]\n",
            "  [0.00289013 0.00285047 0.00289873 0.00287161 0.02293968]\n",
            "  [0.00289013 0.00285047 0.00306629 0.00287161 0.01889791]]]\n",
            "\n",
            "Time-series format of first elements y\n",
            "[0.00287161 0.00287161 0.00287161 0.00287161]\n"
          ],
          "name": "stdout"
        }
      ]
    },
    {
      "cell_type": "markdown",
      "metadata": {
        "id": "ITX0lEx6-n0S"
      },
      "source": [
        "# Parte 3: Crea la RNN y entrenala"
      ]
    },
    {
      "cell_type": "code",
      "metadata": {
        "id": "ZVpAx-m8ztYi"
      },
      "source": [
        "from tensorflow.keras.models import Sequential\n",
        "from tensorflow.keras.layers import Input, SimpleRNN, Dense, Dropout\n",
        "import tensorflow as tf"
      ],
      "execution_count": null,
      "outputs": []
    },
    {
      "cell_type": "code",
      "metadata": {
        "id": "qZNHAhDtRzCB"
      },
      "source": [
        "# == Q1 == \n",
        "# Usando la siguiente estructura de red recurrente, encuentra el modelo más sencillo posible\n",
        "# que de buenos resultados: la red con el menor número de parámetros."
      ],
      "execution_count": null,
      "outputs": []
    },
    {
      "cell_type": "markdown",
      "metadata": {
        "id": "psCdb7PpdvZM"
      },
      "source": [
        "# Modelo Base"
      ]
    },
    {
      "cell_type": "code",
      "metadata": {
        "colab": {
          "base_uri": "https://localhost:8080/"
        },
        "id": "DKeJtbsgdWbI",
        "outputId": "3bf027fb-dc16-44ff-bc44-8bbfbf9d498f"
      },
      "source": [
        "x_train.shape"
      ],
      "execution_count": null,
      "outputs": [
        {
          "output_type": "execute_result",
          "data": {
            "text/plain": [
              "(11242, 4, 5)"
            ]
          },
          "metadata": {
            "tags": []
          },
          "execution_count": 13
        }
      ]
    },
    {
      "cell_type": "code",
      "metadata": {
        "colab": {
          "base_uri": "https://localhost:8080/"
        },
        "id": "oTy1y3F_0K84",
        "outputId": "7a2b5be8-3e02-41f7-f609-ffd8be787f0f"
      },
      "source": [
        "rnn_model = Sequential()\n",
        "rnn_model.add(Input(shape=(x_train.shape[1], x_train.shape[2])))\n",
        "rnn_model.add(SimpleRNN(units=256))\n",
        "rnn_model.add(Dense(1, activation='sigmoid'))\n",
        "\n",
        "rnn_model.summary()"
      ],
      "execution_count": null,
      "outputs": [
        {
          "output_type": "stream",
          "text": [
            "Model: \"sequential\"\n",
            "_________________________________________________________________\n",
            "Layer (type)                 Output Shape              Param #   \n",
            "=================================================================\n",
            "simple_rnn (SimpleRNN)       (None, 256)               67072     \n",
            "_________________________________________________________________\n",
            "dense (Dense)                (None, 1)                 257       \n",
            "=================================================================\n",
            "Total params: 67,329\n",
            "Trainable params: 67,329\n",
            "Non-trainable params: 0\n",
            "_________________________________________________________________\n"
          ],
          "name": "stdout"
        }
      ]
    },
    {
      "cell_type": "code",
      "metadata": {
        "id": "k8ZIAaav0XKT"
      },
      "source": [
        "# Compile\n",
        "rnn_model.compile(loss='mse', optimizer='rmsprop')"
      ],
      "execution_count": null,
      "outputs": []
    },
    {
      "cell_type": "code",
      "metadata": {
        "colab": {
          "base_uri": "https://localhost:8080/",
          "height": 164
        },
        "id": "xXgvpgbBBTBF",
        "outputId": "2e31afd9-7f4c-473b-86c0-e9badd6d5e2d"
      },
      "source": [
        "# Plot model\n",
        "from tensorflow.keras.utils import plot_model\n",
        "plot_model(rnn_model, show_shapes=True, show_layer_names=True,\n",
        "                          rankdir='TB', expand_nested=True, dpi=48)"
      ],
      "execution_count": null,
      "outputs": [
        {
          "output_type": "execute_result",
          "data": {
            "image/png": "[encoded data removed]",
            "text/plain": [
              "<IPython.core.display.Image object>"
            ]
          },
          "metadata": {
            "tags": []
          },
          "execution_count": 16
        }
      ]
    },
    {
      "cell_type": "code",
      "metadata": {
        "colab": {
          "base_uri": "https://localhost:8080/"
        },
        "id": "MWzg-Ja17_W4",
        "outputId": "74385e75-05fc-4bdf-b9c8-99523d648128"
      },
      "source": [
        "# Weights in the first layer (simpleRNN, Input does not count as layer)\n",
        "A, B, C = rnn_model.layers[0].get_weights()\n",
        "print(A.shape)\n",
        "print(B.shape)\n",
        "print(C.shape)\n",
        "\n",
        "# == Q2 == \n",
        "# Renombra los ndarrays A, B, C, usando la notación vista en clase: Wh, Wx, b."
      ],
      "execution_count": null,
      "outputs": [
        {
          "output_type": "stream",
          "text": [
            "(5, 256)\n",
            "(256, 256)\n",
            "(256,)\n"
          ],
          "name": "stdout"
        }
      ]
    },
    {
      "cell_type": "code",
      "metadata": {
        "colab": {
          "base_uri": "https://localhost:8080/"
        },
        "id": "QpeyhXzt8i3C",
        "outputId": "509f3a31-41e6-44a0-812c-b90a0ec8140e"
      },
      "source": [
        "# Weights in the second layer (FullyConnected)\n",
        "W, b = rnn_model.layers[1].get_weights()\n",
        "print(W.shape)\n",
        "print(b.shape)"
      ],
      "execution_count": null,
      "outputs": [
        {
          "output_type": "stream",
          "text": [
            "(256, 1)\n",
            "(1,)\n"
          ],
          "name": "stdout"
        }
      ]
    },
    {
      "cell_type": "code",
      "metadata": {
        "colab": {
          "base_uri": "https://localhost:8080/"
        },
        "id": "3N2cysHY5vjm",
        "outputId": "9f829cde-f132-4d4e-8943-cb9bc882b791"
      },
      "source": [
        "# Train\n",
        "history = rnn_model.fit(x_train, y_train, epochs=10, batch_size=256, validation_split=0.1)"
      ],
      "execution_count": null,
      "outputs": [
        {
          "output_type": "stream",
          "text": [
            "Epoch 1/10\n",
            "40/40 [==============================] - 2s 31ms/step - loss: 0.0452 - val_loss: 0.0354\n",
            "Epoch 2/10\n",
            "40/40 [==============================] - 1s 16ms/step - loss: 0.0053 - val_loss: 0.0132\n",
            "Epoch 3/10\n",
            "40/40 [==============================] - 1s 17ms/step - loss: 0.0030 - val_loss: 0.0406\n",
            "Epoch 4/10\n",
            "40/40 [==============================] - 1s 17ms/step - loss: 0.0031 - val_loss: 0.0083\n",
            "Epoch 5/10\n",
            "40/40 [==============================] - 1s 17ms/step - loss: 0.0024 - val_loss: 0.0093\n",
            "Epoch 6/10\n",
            "40/40 [==============================] - 1s 17ms/step - loss: 0.0020 - val_loss: 0.0069\n",
            "Epoch 7/10\n",
            "40/40 [==============================] - 1s 17ms/step - loss: 0.0020 - val_loss: 3.8776e-04\n",
            "Epoch 8/10\n",
            "40/40 [==============================] - 1s 17ms/step - loss: 0.0016 - val_loss: 2.7981e-04\n",
            "Epoch 9/10\n",
            "40/40 [==============================] - 1s 18ms/step - loss: 0.0013 - val_loss: 0.0183\n",
            "Epoch 10/10\n",
            "40/40 [==============================] - 1s 17ms/step - loss: 0.0015 - val_loss: 5.4416e-04\n"
          ],
          "name": "stdout"
        }
      ]
    },
    {
      "cell_type": "code",
      "metadata": {
        "colab": {
          "base_uri": "https://localhost:8080/",
          "height": 279
        },
        "id": "eyBRG1Ce6rOr",
        "outputId": "8bf3dea5-39c8-48f9-9f14-0847c63d70db"
      },
      "source": [
        "# Plot loss\n",
        "plt.figure(figsize=(12, 4))\n",
        "plt.plot(history.history['loss'], label='Training', linewidth=2)\n",
        "plt.plot(history.history['val_loss'], label='Validation', linewidth=2)\n",
        "plt.legend()\n",
        "plt.xlabel('Epoch')\n",
        "plt.ylabel('Loss')\n",
        "plt.grid(True)\n",
        "plt.show()"
      ],
      "execution_count": null,
      "outputs": [
        {
          "output_type": "display_data",
          "data": {
            "image/png": "[encoded data removed]",
            "text/plain": [
              "<Figure size 864x288 with 1 Axes>"
            ]
          },
          "metadata": {
            "tags": [],
            "needs_background": "light"
          }
        }
      ]
    },
    {
      "cell_type": "code",
      "metadata": {
        "colab": {
          "base_uri": "https://localhost:8080/"
        },
        "id": "vvHTn3-Z7AEq",
        "outputId": "e799fa06-d0b3-475d-cdb5-9aa55025f7fb"
      },
      "source": [
        "# Predict on training and test sets\n",
        "y_train_hat = rnn_model.predict(x_train)\n",
        "y_test_hat = rnn_model.predict(x_test)\n",
        "print(y_train_hat.shape)\n",
        "print(y_test_hat.shape)"
      ],
      "execution_count": null,
      "outputs": [
        {
          "output_type": "stream",
          "text": [
            "(11242, 1)\n",
            "(2808, 1)\n"
          ],
          "name": "stdout"
        }
      ]
    },
    {
      "cell_type": "code",
      "metadata": {
        "colab": {
          "base_uri": "https://localhost:8080/",
          "height": 279
        },
        "id": "CJ9Gs7JO7Stg",
        "outputId": "0983e5b1-d9f3-4cb6-b338-2e6b0cac17db"
      },
      "source": [
        "# Plot y_train, y_train_hat, y_test and y_test_hat\n",
        "x_ticks = np.arange(len(y_train) + len(y_test)) # Para poder imprimir test delante de train\n",
        "\n",
        "plt.figure(figsize=(12, 4))\n",
        "plt.plot(x_ticks[:len(y_train)], y_train)\n",
        "plt.plot(x_ticks[:len(y_train)], y_train_hat)\n",
        "plt.plot(x_ticks[len(y_train):], y_test)\n",
        "plt.plot(x_ticks[len(y_train):], y_test_hat)\n",
        "plt.ylabel('Close value')\n",
        "plt.xlabel('Days')\n",
        "plt.legend(['y_train', '$\\hat{y}$_train', 'y_test', '$\\hat{y}$_test'], loc='upper left')\n",
        "plt.grid()\n",
        "plt.show()"
      ],
      "execution_count": null,
      "outputs": [
        {
          "output_type": "display_data",
          "data": {
            "image/png": "[encoded data removed]",
            "text/plain": [
              "<Figure size 864x288 with 1 Axes>"
            ]
          },
          "metadata": {
            "tags": [],
            "needs_background": "light"
          }
        }
      ]
    },
    {
      "cell_type": "markdown",
      "metadata": {
        "id": "7q3CeODqfZFj"
      },
      "source": [
        "# Pruebas Modelos\n",
        "\n",
        "Modelo 1 : 1 capa RNN y 3 capas densas"
      ]
    },
    {
      "cell_type": "code",
      "metadata": {
        "id": "8WhZZxs_SAZN"
      },
      "source": [
        "def get_model_arquitecture(model, x_train, y_train):\n",
        "  \"\"\"Function to get the model arquitecture \"\"\"\n",
        "\n",
        "  if model == 1:\n",
        "    #Base line model\n",
        "    RNN = Sequential()\n",
        "    RNN.add(Input(shape=(x_train.shape[1], x_train.shape[2])))\n",
        "    RNN.add(SimpleRNN(units=256))\n",
        "    RNN.add(Dense(1, activation='sigmoid'))\n",
        "      \n",
        "  elif model == 2:\n",
        "    #Model 2 : 1 capa RNN, 1 dropout y  1 capa densa\n",
        "    RNN = Sequential()\n",
        "    RNN.add(Input(shape=(x_train.shape[1], x_train.shape[2])))\n",
        "    RNN.add(SimpleRNN(units=128, activation='relu'))\n",
        "    RNN.add(Dropout(0.5))\n",
        "    RNN.add(Dense(1, activation='sigmoid'))\n",
        "\n",
        "  elif model == 3:\n",
        "    #Model 3 : 2 capas RNN , 1 dropout y 1 capa densa\n",
        "    RNN = Sequential()\n",
        "    RNN.add(Input(shape=(x_train.shape[1], x_train.shape[2])))\n",
        "    RNN.add(SimpleRNN(units=128, activation='relu',return_sequences=True))\n",
        "    RNN.add(Dropout(0.5))\n",
        "    RNN.add(SimpleRNN(units=64, activation='relu'))\n",
        "    RNN.add(Dense(1, activation='sigmoid'))\n",
        "\n",
        "  elif model == 4:\n",
        "    #Model 4 : 1 capa RNN y 3 capas densas\n",
        "    RNN = Sequential()\n",
        "    RNN.add(Input(shape=(x_train.shape[1], x_train.shape[2])))\n",
        "    RNN.add(SimpleRNN(units=128, activation='relu'))\n",
        "    RNN.add(Dense(units=64, activation='relu'))\n",
        "    RNN.add(Dense(units=128))\n",
        "    RNN.add(Dense(1, activation='sigmoid'))\n",
        "\n",
        "  elif model == 5:\n",
        "    #Model 5 : 2 capa RNN, 1 dropout y  1 capa densa\n",
        "    RNN = Sequential()\n",
        "    RNN.add(Input(shape=(x_train.shape[1], x_train.shape[2])))\n",
        "    RNN.add(SimpleRNN(units=64, activation='relu',return_sequences=True))\n",
        "    RNN.add(Dropout(0.5))\n",
        "    RNN.add(SimpleRNN(units=32, activation='relu'))\n",
        "    RNN.add(Dense(1, activation='sigmoid'))\n",
        "\n",
        "  else:\n",
        "   #Model 6 : 2 capa RNN y  1 capa densa\n",
        "    RNN = Sequential()\n",
        "    RNN.add(Input(shape=(x_train.shape[1], x_train.shape[2])))\n",
        "    RNN.add(SimpleRNN(units=32, activation='relu',return_sequences=True))\n",
        "    RNN.add(SimpleRNN(64,return_sequences=True))\n",
        "    RNN.add(Dense(28))\n",
        "    RNN.add(Dense(1, activation='sigmoid'))\n",
        "\n",
        "  return RNN"
      ],
      "execution_count": null,
      "outputs": []
    },
    {
      "cell_type": "code",
      "metadata": {
        "id": "Ku7fMqAWVP7T"
      },
      "source": [
        "RNN = Sequential()\n",
        "RNN.add(Input(shape=(x_train.shape[1], x_train.shape[2])))\n",
        "RNN.add(SimpleRNN(units=64, activation='relu',return_sequences=True))\n",
        "RNN.add(Dropout(0.5))\n",
        "RNN.add(SimpleRNN(units=32, activation='relu'))\n",
        "RNN.add(Dense(1, activation='sigmoid'))"
      ],
      "execution_count": null,
      "outputs": []
    },
    {
      "cell_type": "code",
      "metadata": {
        "id": "sqtYwarKx049"
      },
      "source": [
        "def eval_models(x_train, y_train):\n",
        "\n",
        "  bs = [128, 128, 264, 128, 264,128]\n",
        "  models = [1,2,3,4,5,6]\n",
        "  n_epochs = 20\n",
        "  loss_train = []\n",
        "  loss_validation = []\n",
        "  model = []\n",
        "  pars = []\n",
        "\n",
        "  for md,batch_s in zip(models,bs):\n",
        "    model.append(md)\n",
        "    RNN = get_model_arquitecture(md,x_train, y_train)\n",
        "    RNN.compile(loss='mse', optimizer='rmsprop')\n",
        "\n",
        "    #Train model\n",
        "    history = RNN.fit(x_train, y_train, epochs=n_epochs, batch_size=batch_s, validation_split=0.1)\n",
        "\n",
        "    # Compute test loss \n",
        "    loss_train.append(RNN.history.history['loss'][-1])\n",
        "    loss_validation.append(RNN.history.history['val_loss'][-1])\n",
        "    \n",
        "    pars.append(RNN.count_params())\n",
        "    # Reset session\n",
        "    tf.keras.backend.clear_session()\n",
        "    \n",
        "  table={'model':model, 'loss_train':loss_train,'loss_validation':loss_validation, 'params':pars}       \n",
        "  results=pd.DataFrame(table)\n",
        "    \n",
        "  return results"
      ],
      "execution_count": null,
      "outputs": []
    },
    {
      "cell_type": "code",
      "metadata": {
        "id": "6En3tM8Qx07u"
      },
      "source": [
        "results_1 = eval_models(x_train, y_train)"
      ],
      "execution_count": null,
      "outputs": []
    },
    {
      "cell_type": "code",
      "metadata": {
        "colab": {
          "base_uri": "https://localhost:8080/",
          "height": 228
        },
        "id": "RjY_o3gtx0-P",
        "outputId": "670405c5-f17a-46ed-f991-0d80eb38f2ac"
      },
      "source": [
        "results_1  #gana modelo 2"
      ],
      "execution_count": null,
      "outputs": [
        {
          "output_type": "execute_result",
          "data": {
            "text/html": [
              "<div>\n",
              "<style scoped>\n",
              "    .dataframe tbody tr th:only-of-type {\n",
              "        vertical-align: middle;\n",
              "    }\n",
              "\n",
              "    .dataframe tbody tr th {\n",
              "        vertical-align: top;\n",
              "    }\n",
              "\n",
              "    .dataframe thead th {\n",
              "        text-align: right;\n",
              "    }\n",
              "</style>\n",
              "<table border=\"1\" class=\"dataframe\">\n",
              "  <thead>\n",
              "    <tr style=\"text-align: right;\">\n",
              "      <th></th>\n",
              "      <th>model</th>\n",
              "      <th>loss_train</th>\n",
              "      <th>loss_validation</th>\n",
              "      <th>params</th>\n",
              "    </tr>\n",
              "  </thead>\n",
              "  <tbody>\n",
              "    <tr>\n",
              "      <th>0</th>\n",
              "      <td>1</td>\n",
              "      <td>0.000344</td>\n",
              "      <td>0.000271</td>\n",
              "      <td>67329</td>\n",
              "    </tr>\n",
              "    <tr>\n",
              "      <th>1</th>\n",
              "      <td>2</td>\n",
              "      <td>0.000430</td>\n",
              "      <td>0.000166</td>\n",
              "      <td>17281</td>\n",
              "    </tr>\n",
              "    <tr>\n",
              "      <th>2</th>\n",
              "      <td>3</td>\n",
              "      <td>0.000258</td>\n",
              "      <td>0.000824</td>\n",
              "      <td>29569</td>\n",
              "    </tr>\n",
              "    <tr>\n",
              "      <th>3</th>\n",
              "      <td>4</td>\n",
              "      <td>0.000093</td>\n",
              "      <td>0.000224</td>\n",
              "      <td>33857</td>\n",
              "    </tr>\n",
              "    <tr>\n",
              "      <th>4</th>\n",
              "      <td>5</td>\n",
              "      <td>0.000289</td>\n",
              "      <td>0.000198</td>\n",
              "      <td>7617</td>\n",
              "    </tr>\n",
              "    <tr>\n",
              "      <th>5</th>\n",
              "      <td>6</td>\n",
              "      <td>0.000128</td>\n",
              "      <td>0.000340</td>\n",
              "      <td>9273</td>\n",
              "    </tr>\n",
              "  </tbody>\n",
              "</table>\n",
              "</div>"
            ],
            "text/plain": [
              "   model  loss_train  loss_validation  params\n",
              "0      1    0.000344         0.000271   67329\n",
              "1      2    0.000430         0.000166   17281\n",
              "2      3    0.000258         0.000824   29569\n",
              "3      4    0.000093         0.000224   33857\n",
              "4      5    0.000289         0.000198    7617\n",
              "5      6    0.000128         0.000340    9273"
            ]
          },
          "metadata": {
            "tags": []
          },
          "execution_count": 44
        }
      ]
    },
    {
      "cell_type": "code",
      "metadata": {
        "id": "I7WaV4wox1A9"
      },
      "source": [
        "results_2 = eval_models(x_train, y_train)"
      ],
      "execution_count": null,
      "outputs": []
    },
    {
      "cell_type": "code",
      "metadata": {
        "colab": {
          "base_uri": "https://localhost:8080/",
          "height": 228
        },
        "id": "8jqbvJLex1Fz",
        "outputId": "a0161956-c3d5-48a9-bf0c-031a5a68d2bf"
      },
      "source": [
        "results_2  #gana modelo 4"
      ],
      "execution_count": null,
      "outputs": [
        {
          "output_type": "execute_result",
          "data": {
            "text/html": [
              "<div>\n",
              "<style scoped>\n",
              "    .dataframe tbody tr th:only-of-type {\n",
              "        vertical-align: middle;\n",
              "    }\n",
              "\n",
              "    .dataframe tbody tr th {\n",
              "        vertical-align: top;\n",
              "    }\n",
              "\n",
              "    .dataframe thead th {\n",
              "        text-align: right;\n",
              "    }\n",
              "</style>\n",
              "<table border=\"1\" class=\"dataframe\">\n",
              "  <thead>\n",
              "    <tr style=\"text-align: right;\">\n",
              "      <th></th>\n",
              "      <th>model</th>\n",
              "      <th>loss_train</th>\n",
              "      <th>loss_validation</th>\n",
              "      <th>params</th>\n",
              "    </tr>\n",
              "  </thead>\n",
              "  <tbody>\n",
              "    <tr>\n",
              "      <th>0</th>\n",
              "      <td>1</td>\n",
              "      <td>0.000368</td>\n",
              "      <td>0.000353</td>\n",
              "      <td>67329</td>\n",
              "    </tr>\n",
              "    <tr>\n",
              "      <th>1</th>\n",
              "      <td>2</td>\n",
              "      <td>0.000394</td>\n",
              "      <td>0.003681</td>\n",
              "      <td>17281</td>\n",
              "    </tr>\n",
              "    <tr>\n",
              "      <th>2</th>\n",
              "      <td>3</td>\n",
              "      <td>0.000281</td>\n",
              "      <td>0.000700</td>\n",
              "      <td>29569</td>\n",
              "    </tr>\n",
              "    <tr>\n",
              "      <th>3</th>\n",
              "      <td>4</td>\n",
              "      <td>0.000102</td>\n",
              "      <td>0.000140</td>\n",
              "      <td>33857</td>\n",
              "    </tr>\n",
              "    <tr>\n",
              "      <th>4</th>\n",
              "      <td>5</td>\n",
              "      <td>0.000291</td>\n",
              "      <td>0.000769</td>\n",
              "      <td>7617</td>\n",
              "    </tr>\n",
              "    <tr>\n",
              "      <th>5</th>\n",
              "      <td>6</td>\n",
              "      <td>0.000136</td>\n",
              "      <td>0.003046</td>\n",
              "      <td>9273</td>\n",
              "    </tr>\n",
              "  </tbody>\n",
              "</table>\n",
              "</div>"
            ],
            "text/plain": [
              "   model  loss_train  loss_validation  params\n",
              "0      1    0.000368         0.000353   67329\n",
              "1      2    0.000394         0.003681   17281\n",
              "2      3    0.000281         0.000700   29569\n",
              "3      4    0.000102         0.000140   33857\n",
              "4      5    0.000291         0.000769    7617\n",
              "5      6    0.000136         0.003046    9273"
            ]
          },
          "metadata": {
            "tags": []
          },
          "execution_count": 46
        }
      ]
    },
    {
      "cell_type": "code",
      "metadata": {
        "id": "_8AmaOOUU43w"
      },
      "source": [
        "results_3 = eval_models(x_train, y_train)"
      ],
      "execution_count": null,
      "outputs": []
    },
    {
      "cell_type": "code",
      "metadata": {
        "colab": {
          "base_uri": "https://localhost:8080/",
          "height": 228
        },
        "id": "CvblqJ6AU46a",
        "outputId": "352791ec-7bb6-4b93-cbec-d3e093a85b28"
      },
      "source": [
        "results_3 #gano modelo 5"
      ],
      "execution_count": null,
      "outputs": [
        {
          "output_type": "execute_result",
          "data": {
            "text/html": [
              "<div>\n",
              "<style scoped>\n",
              "    .dataframe tbody tr th:only-of-type {\n",
              "        vertical-align: middle;\n",
              "    }\n",
              "\n",
              "    .dataframe tbody tr th {\n",
              "        vertical-align: top;\n",
              "    }\n",
              "\n",
              "    .dataframe thead th {\n",
              "        text-align: right;\n",
              "    }\n",
              "</style>\n",
              "<table border=\"1\" class=\"dataframe\">\n",
              "  <thead>\n",
              "    <tr style=\"text-align: right;\">\n",
              "      <th></th>\n",
              "      <th>model</th>\n",
              "      <th>loss_train</th>\n",
              "      <th>loss_validation</th>\n",
              "      <th>params</th>\n",
              "    </tr>\n",
              "  </thead>\n",
              "  <tbody>\n",
              "    <tr>\n",
              "      <th>0</th>\n",
              "      <td>1</td>\n",
              "      <td>0.000426</td>\n",
              "      <td>0.003641</td>\n",
              "      <td>67329</td>\n",
              "    </tr>\n",
              "    <tr>\n",
              "      <th>1</th>\n",
              "      <td>2</td>\n",
              "      <td>0.000409</td>\n",
              "      <td>0.000676</td>\n",
              "      <td>17281</td>\n",
              "    </tr>\n",
              "    <tr>\n",
              "      <th>2</th>\n",
              "      <td>3</td>\n",
              "      <td>0.000289</td>\n",
              "      <td>0.001458</td>\n",
              "      <td>29569</td>\n",
              "    </tr>\n",
              "    <tr>\n",
              "      <th>3</th>\n",
              "      <td>4</td>\n",
              "      <td>0.000091</td>\n",
              "      <td>0.002706</td>\n",
              "      <td>33857</td>\n",
              "    </tr>\n",
              "    <tr>\n",
              "      <th>4</th>\n",
              "      <td>5</td>\n",
              "      <td>0.000306</td>\n",
              "      <td>0.000614</td>\n",
              "      <td>7617</td>\n",
              "    </tr>\n",
              "    <tr>\n",
              "      <th>5</th>\n",
              "      <td>6</td>\n",
              "      <td>0.000148</td>\n",
              "      <td>0.000797</td>\n",
              "      <td>9273</td>\n",
              "    </tr>\n",
              "  </tbody>\n",
              "</table>\n",
              "</div>"
            ],
            "text/plain": [
              "   model  loss_train  loss_validation  params\n",
              "0      1    0.000426         0.003641   67329\n",
              "1      2    0.000409         0.000676   17281\n",
              "2      3    0.000289         0.001458   29569\n",
              "3      4    0.000091         0.002706   33857\n",
              "4      5    0.000306         0.000614    7617\n",
              "5      6    0.000148         0.000797    9273"
            ]
          },
          "metadata": {
            "tags": []
          },
          "execution_count": 48
        }
      ]
    },
    {
      "cell_type": "code",
      "metadata": {
        "id": "V9Z79G45U49M"
      },
      "source": [
        "results_4 = eval_models(x_train, y_train)"
      ],
      "execution_count": null,
      "outputs": []
    },
    {
      "cell_type": "code",
      "metadata": {
        "colab": {
          "base_uri": "https://localhost:8080/",
          "height": 228
        },
        "id": "rG88VzkhU4_f",
        "outputId": "65ce9037-7787-425d-fcc7-e38ce1995c95"
      },
      "source": [
        "results_4 #gano modelo 1"
      ],
      "execution_count": null,
      "outputs": [
        {
          "output_type": "execute_result",
          "data": {
            "text/html": [
              "<div>\n",
              "<style scoped>\n",
              "    .dataframe tbody tr th:only-of-type {\n",
              "        vertical-align: middle;\n",
              "    }\n",
              "\n",
              "    .dataframe tbody tr th {\n",
              "        vertical-align: top;\n",
              "    }\n",
              "\n",
              "    .dataframe thead th {\n",
              "        text-align: right;\n",
              "    }\n",
              "</style>\n",
              "<table border=\"1\" class=\"dataframe\">\n",
              "  <thead>\n",
              "    <tr style=\"text-align: right;\">\n",
              "      <th></th>\n",
              "      <th>model</th>\n",
              "      <th>loss_train</th>\n",
              "      <th>loss_validation</th>\n",
              "      <th>params</th>\n",
              "    </tr>\n",
              "  </thead>\n",
              "  <tbody>\n",
              "    <tr>\n",
              "      <th>0</th>\n",
              "      <td>1</td>\n",
              "      <td>0.000337</td>\n",
              "      <td>0.000498</td>\n",
              "      <td>67329</td>\n",
              "    </tr>\n",
              "    <tr>\n",
              "      <th>1</th>\n",
              "      <td>2</td>\n",
              "      <td>0.000404</td>\n",
              "      <td>0.000538</td>\n",
              "      <td>17281</td>\n",
              "    </tr>\n",
              "    <tr>\n",
              "      <th>2</th>\n",
              "      <td>3</td>\n",
              "      <td>0.000261</td>\n",
              "      <td>0.001100</td>\n",
              "      <td>29569</td>\n",
              "    </tr>\n",
              "    <tr>\n",
              "      <th>3</th>\n",
              "      <td>4</td>\n",
              "      <td>0.000107</td>\n",
              "      <td>0.001498</td>\n",
              "      <td>33857</td>\n",
              "    </tr>\n",
              "    <tr>\n",
              "      <th>4</th>\n",
              "      <td>5</td>\n",
              "      <td>0.000391</td>\n",
              "      <td>0.000284</td>\n",
              "      <td>7617</td>\n",
              "    </tr>\n",
              "    <tr>\n",
              "      <th>5</th>\n",
              "      <td>6</td>\n",
              "      <td>0.000122</td>\n",
              "      <td>0.004088</td>\n",
              "      <td>9273</td>\n",
              "    </tr>\n",
              "  </tbody>\n",
              "</table>\n",
              "</div>"
            ],
            "text/plain": [
              "   model  loss_train  loss_validation  params\n",
              "0      1    0.000337         0.000498   67329\n",
              "1      2    0.000404         0.000538   17281\n",
              "2      3    0.000261         0.001100   29569\n",
              "3      4    0.000107         0.001498   33857\n",
              "4      5    0.000391         0.000284    7617\n",
              "5      6    0.000122         0.004088    9273"
            ]
          },
          "metadata": {
            "tags": []
          },
          "execution_count": 50
        }
      ]
    },
    {
      "cell_type": "code",
      "metadata": {
        "id": "RvwyCwxFx1Ic"
      },
      "source": [
        "results_5 = eval_models(x_train, y_train)"
      ],
      "execution_count": null,
      "outputs": []
    },
    {
      "cell_type": "code",
      "metadata": {
        "colab": {
          "base_uri": "https://localhost:8080/",
          "height": 228
        },
        "id": "tCmY5eA4YvNa",
        "outputId": "e2335674-14a6-4e65-fe8c-75976e41dfb7"
      },
      "source": [
        "results_5  #gano modelo 4"
      ],
      "execution_count": null,
      "outputs": [
        {
          "output_type": "execute_result",
          "data": {
            "text/html": [
              "<div>\n",
              "<style scoped>\n",
              "    .dataframe tbody tr th:only-of-type {\n",
              "        vertical-align: middle;\n",
              "    }\n",
              "\n",
              "    .dataframe tbody tr th {\n",
              "        vertical-align: top;\n",
              "    }\n",
              "\n",
              "    .dataframe thead th {\n",
              "        text-align: right;\n",
              "    }\n",
              "</style>\n",
              "<table border=\"1\" class=\"dataframe\">\n",
              "  <thead>\n",
              "    <tr style=\"text-align: right;\">\n",
              "      <th></th>\n",
              "      <th>model</th>\n",
              "      <th>loss_train</th>\n",
              "      <th>loss_validation</th>\n",
              "      <th>params</th>\n",
              "    </tr>\n",
              "  </thead>\n",
              "  <tbody>\n",
              "    <tr>\n",
              "      <th>0</th>\n",
              "      <td>1</td>\n",
              "      <td>0.000348</td>\n",
              "      <td>0.005630</td>\n",
              "      <td>67329</td>\n",
              "    </tr>\n",
              "    <tr>\n",
              "      <th>1</th>\n",
              "      <td>2</td>\n",
              "      <td>0.000408</td>\n",
              "      <td>0.002378</td>\n",
              "      <td>17281</td>\n",
              "    </tr>\n",
              "    <tr>\n",
              "      <th>2</th>\n",
              "      <td>3</td>\n",
              "      <td>0.000244</td>\n",
              "      <td>0.002479</td>\n",
              "      <td>29569</td>\n",
              "    </tr>\n",
              "    <tr>\n",
              "      <th>3</th>\n",
              "      <td>4</td>\n",
              "      <td>0.000094</td>\n",
              "      <td>0.000174</td>\n",
              "      <td>33857</td>\n",
              "    </tr>\n",
              "    <tr>\n",
              "      <th>4</th>\n",
              "      <td>5</td>\n",
              "      <td>0.000313</td>\n",
              "      <td>0.001030</td>\n",
              "      <td>7617</td>\n",
              "    </tr>\n",
              "    <tr>\n",
              "      <th>5</th>\n",
              "      <td>6</td>\n",
              "      <td>0.000121</td>\n",
              "      <td>0.000470</td>\n",
              "      <td>9273</td>\n",
              "    </tr>\n",
              "  </tbody>\n",
              "</table>\n",
              "</div>"
            ],
            "text/plain": [
              "   model  loss_train  loss_validation  params\n",
              "0      1    0.000348         0.005630   67329\n",
              "1      2    0.000408         0.002378   17281\n",
              "2      3    0.000244         0.002479   29569\n",
              "3      4    0.000094         0.000174   33857\n",
              "4      5    0.000313         0.001030    7617\n",
              "5      6    0.000121         0.000470    9273"
            ]
          },
          "metadata": {
            "tags": []
          },
          "execution_count": 52
        }
      ]
    },
    {
      "cell_type": "markdown",
      "metadata": {
        "id": "StD5utlLZL87"
      },
      "source": [
        "Promedio de las pruebas (corridas)"
      ]
    },
    {
      "cell_type": "code",
      "metadata": {
        "colab": {
          "base_uri": "https://localhost:8080/",
          "height": 258
        },
        "id": "GAvvxt-lYvP6",
        "outputId": "efd9f097-f90e-4ec0-df0b-d4707371c74c"
      },
      "source": [
        "# Append all models\n",
        "models = results_1.append([results_2, results_3, results_4, results_5],ignore_index=True)\n",
        "\n",
        "# Mean per model\n",
        "models.groupby('model').mean()"
      ],
      "execution_count": null,
      "outputs": [
        {
          "output_type": "execute_result",
          "data": {
            "text/html": [
              "<div>\n",
              "<style scoped>\n",
              "    .dataframe tbody tr th:only-of-type {\n",
              "        vertical-align: middle;\n",
              "    }\n",
              "\n",
              "    .dataframe tbody tr th {\n",
              "        vertical-align: top;\n",
              "    }\n",
              "\n",
              "    .dataframe thead th {\n",
              "        text-align: right;\n",
              "    }\n",
              "</style>\n",
              "<table border=\"1\" class=\"dataframe\">\n",
              "  <thead>\n",
              "    <tr style=\"text-align: right;\">\n",
              "      <th></th>\n",
              "      <th>loss_train</th>\n",
              "      <th>loss_validation</th>\n",
              "      <th>params</th>\n",
              "    </tr>\n",
              "    <tr>\n",
              "      <th>model</th>\n",
              "      <th></th>\n",
              "      <th></th>\n",
              "      <th></th>\n",
              "    </tr>\n",
              "  </thead>\n",
              "  <tbody>\n",
              "    <tr>\n",
              "      <th>1</th>\n",
              "      <td>0.000365</td>\n",
              "      <td>0.002079</td>\n",
              "      <td>67329</td>\n",
              "    </tr>\n",
              "    <tr>\n",
              "      <th>2</th>\n",
              "      <td>0.000409</td>\n",
              "      <td>0.001488</td>\n",
              "      <td>17281</td>\n",
              "    </tr>\n",
              "    <tr>\n",
              "      <th>3</th>\n",
              "      <td>0.000266</td>\n",
              "      <td>0.001312</td>\n",
              "      <td>29569</td>\n",
              "    </tr>\n",
              "    <tr>\n",
              "      <th>4</th>\n",
              "      <td>0.000097</td>\n",
              "      <td>0.000948</td>\n",
              "      <td>33857</td>\n",
              "    </tr>\n",
              "    <tr>\n",
              "      <th>5</th>\n",
              "      <td>0.000318</td>\n",
              "      <td>0.000579</td>\n",
              "      <td>7617</td>\n",
              "    </tr>\n",
              "    <tr>\n",
              "      <th>6</th>\n",
              "      <td>0.000131</td>\n",
              "      <td>0.001748</td>\n",
              "      <td>9273</td>\n",
              "    </tr>\n",
              "  </tbody>\n",
              "</table>\n",
              "</div>"
            ],
            "text/plain": [
              "       loss_train  loss_validation  params\n",
              "model                                     \n",
              "1        0.000365         0.002079   67329\n",
              "2        0.000409         0.001488   17281\n",
              "3        0.000266         0.001312   29569\n",
              "4        0.000097         0.000948   33857\n",
              "5        0.000318         0.000579    7617\n",
              "6        0.000131         0.001748    9273"
            ]
          },
          "metadata": {
            "tags": []
          },
          "execution_count": 53
        }
      ]
    },
    {
      "cell_type": "markdown",
      "metadata": {
        "id": "GObZJw5yiGal"
      },
      "source": [
        "# Desempeño modelo 5"
      ]
    },
    {
      "cell_type": "markdown",
      "metadata": {
        "id": "TBOt1fN3ZgMG"
      },
      "source": [
        "De acuerdo al promedio de las 5 corridas se obtiene una menos pérdida en validación con el modelo #5, cuya arquitectura es la siguiente:"
      ]
    },
    {
      "cell_type": "code",
      "metadata": {
        "id": "56gP9miifNmL"
      },
      "source": [
        "RNN_model = Sequential()\n",
        "RNN_model.add(Input(shape=(x_train.shape[1], x_train.shape[2])))\n",
        "RNN_model.add(SimpleRNN(units=64, activation='relu',return_sequences=True))\n",
        "RNN_model.add(Dropout(0.5))\n",
        "RNN_model.add(SimpleRNN(units=32, activation='relu'))\n",
        "RNN_model.add(Dense(1, activation='sigmoid'))"
      ],
      "execution_count": null,
      "outputs": []
    },
    {
      "cell_type": "code",
      "metadata": {
        "colab": {
          "base_uri": "https://localhost:8080/",
          "height": 275
        },
        "id": "NvxBIX4NYvR4",
        "outputId": "ef792e7c-1b52-4201-d2bd-b6a7f809f323"
      },
      "source": [
        "# Plot model\n",
        "from tensorflow.keras.utils import plot_model\n",
        "plot_model(RNN_model, show_shapes=True, show_layer_names=True,\n",
        "                          rankdir='TB', expand_nested=True, dpi=48)"
      ],
      "execution_count": null,
      "outputs": [
        {
          "output_type": "execute_result",
          "data": {
            "image/png": "[encoded data removed]",
            "text/plain": [
              "<IPython.core.display.Image object>"
            ]
          },
          "metadata": {
            "tags": []
          },
          "execution_count": 64
        }
      ]
    },
    {
      "cell_type": "code",
      "metadata": {
        "id": "TG9NucLoaPp6"
      },
      "source": [
        "# Compile\n",
        "RNN_model.compile(loss='mse', optimizer='rmsprop')"
      ],
      "execution_count": null,
      "outputs": []
    },
    {
      "cell_type": "code",
      "metadata": {
        "colab": {
          "base_uri": "https://localhost:8080/"
        },
        "id": "xj9M5Hu3aPse",
        "outputId": "3673a02f-3ff1-48ce-8fda-da240e85aebc"
      },
      "source": [
        "# Weights in the first layer (simpleRNN, Input does not count as layer)\n",
        "A, B, C = RNN_model.layers[0].get_weights()\n",
        "print(A.shape)\n",
        "print(B.shape)\n",
        "print(C.shape)"
      ],
      "execution_count": null,
      "outputs": [
        {
          "output_type": "stream",
          "text": [
            "(5, 64)\n",
            "(64, 64)\n",
            "(64,)\n"
          ],
          "name": "stdout"
        }
      ]
    },
    {
      "cell_type": "code",
      "metadata": {
        "colab": {
          "base_uri": "https://localhost:8080/"
        },
        "id": "Zjqrbl7piVzx",
        "outputId": "11cdcbd9-8dcc-414c-d7cf-eb2b9cadc06a"
      },
      "source": [
        "# == Q2 == \n",
        "# Renombra los ndarrays A, B, C, usando la notación vista en clase: Wh, Wx, b.\n",
        "Wh, Wx, b = RNN_model.layers[0].get_weights()\n",
        "print(Wh.shape)\n",
        "print(Wx.shape)\n",
        "print(b.shape)"
      ],
      "execution_count": null,
      "outputs": [
        {
          "output_type": "stream",
          "text": [
            "(5, 64)\n",
            "(64, 64)\n",
            "(64,)\n"
          ],
          "name": "stdout"
        }
      ]
    },
    {
      "cell_type": "code",
      "metadata": {
        "colab": {
          "base_uri": "https://localhost:8080/"
        },
        "id": "Fru1MSfQjZ6h",
        "outputId": "d43c451d-7313-4642-8922-eadc7ef0876e"
      },
      "source": [
        "# Weights in the second layer (FullyConnected)\n",
        "W, b = RNN_model.layers[3].get_weights()\n",
        "print(W.shape)\n",
        "print(b.shape)"
      ],
      "execution_count": null,
      "outputs": [
        {
          "output_type": "stream",
          "text": [
            "(32, 1)\n",
            "(1,)\n"
          ],
          "name": "stdout"
        }
      ]
    },
    {
      "cell_type": "code",
      "metadata": {
        "colab": {
          "base_uri": "https://localhost:8080/"
        },
        "id": "TO60kc2njqR5",
        "outputId": "634bf7d4-9578-47a6-8c62-a96fc10de827"
      },
      "source": [
        "# Train\n",
        "history = RNN_model.fit(x_train, y_train, epochs=20, batch_size=264, validation_split=0.1)"
      ],
      "execution_count": null,
      "outputs": [
        {
          "output_type": "stream",
          "text": [
            "Epoch 1/20\n",
            "39/39 [==============================] - 2s 15ms/step - loss: 0.0923 - val_loss: 0.0102\n",
            "Epoch 2/20\n",
            "39/39 [==============================] - 0s 8ms/step - loss: 0.0028 - val_loss: 0.0260\n",
            "Epoch 3/20\n",
            "39/39 [==============================] - 0s 8ms/step - loss: 0.0019 - val_loss: 0.0084\n",
            "Epoch 4/20\n",
            "39/39 [==============================] - 0s 9ms/step - loss: 0.0013 - val_loss: 0.0085\n",
            "Epoch 5/20\n",
            "39/39 [==============================] - 0s 8ms/step - loss: 9.8439e-04 - val_loss: 6.0070e-04\n",
            "Epoch 6/20\n",
            "39/39 [==============================] - 0s 8ms/step - loss: 8.2504e-04 - val_loss: 5.8136e-04\n",
            "Epoch 7/20\n",
            "39/39 [==============================] - 0s 8ms/step - loss: 7.0020e-04 - val_loss: 4.9555e-04\n",
            "Epoch 8/20\n",
            "39/39 [==============================] - 0s 8ms/step - loss: 6.4844e-04 - val_loss: 0.0043\n",
            "Epoch 9/20\n",
            "39/39 [==============================] - 0s 9ms/step - loss: 5.8930e-04 - val_loss: 6.5601e-04\n",
            "Epoch 10/20\n",
            "39/39 [==============================] - 0s 8ms/step - loss: 5.1766e-04 - val_loss: 5.7036e-04\n",
            "Epoch 11/20\n",
            "39/39 [==============================] - 0s 8ms/step - loss: 5.2380e-04 - val_loss: 5.8522e-04\n",
            "Epoch 12/20\n",
            "39/39 [==============================] - 0s 8ms/step - loss: 4.5146e-04 - val_loss: 0.0017\n",
            "Epoch 13/20\n",
            "39/39 [==============================] - 0s 8ms/step - loss: 4.1545e-04 - val_loss: 0.0045\n",
            "Epoch 14/20\n",
            "39/39 [==============================] - 0s 8ms/step - loss: 4.1654e-04 - val_loss: 0.0014\n",
            "Epoch 15/20\n",
            "39/39 [==============================] - 0s 8ms/step - loss: 3.5827e-04 - val_loss: 4.6060e-04\n",
            "Epoch 16/20\n",
            "39/39 [==============================] - 0s 8ms/step - loss: 4.1726e-04 - val_loss: 8.2968e-04\n",
            "Epoch 17/20\n",
            "39/39 [==============================] - 0s 9ms/step - loss: 3.4694e-04 - val_loss: 2.1476e-04\n",
            "Epoch 18/20\n",
            "39/39 [==============================] - 0s 8ms/step - loss: 3.2571e-04 - val_loss: 7.0350e-04\n",
            "Epoch 19/20\n",
            "39/39 [==============================] - 0s 8ms/step - loss: 2.7765e-04 - val_loss: 3.3457e-04\n",
            "Epoch 20/20\n",
            "39/39 [==============================] - 0s 8ms/step - loss: 3.6328e-04 - val_loss: 4.0957e-04\n"
          ],
          "name": "stdout"
        }
      ]
    },
    {
      "cell_type": "code",
      "metadata": {
        "colab": {
          "base_uri": "https://localhost:8080/",
          "height": 279
        },
        "id": "8djcUPPgjqUX",
        "outputId": "98938bf2-6a82-4adb-8e6c-81ea246c784d"
      },
      "source": [
        "# Plot loss\n",
        "plt.figure(figsize=(12, 4))\n",
        "plt.plot(history.history['loss'], label='Training', linewidth=2)\n",
        "plt.plot(history.history['val_loss'], label='Validation', linewidth=2)\n",
        "plt.legend()\n",
        "plt.xlabel('Epoch')\n",
        "plt.ylabel('Loss')\n",
        "plt.grid(True)\n",
        "plt.show()"
      ],
      "execution_count": null,
      "outputs": [
        {
          "output_type": "display_data",
          "data": {
            "image/png": "[encoded data removed]",
            "text/plain": [
              "<Figure size 864x288 with 1 Axes>"
            ]
          },
          "metadata": {
            "tags": [],
            "needs_background": "light"
          }
        }
      ]
    },
    {
      "cell_type": "code",
      "metadata": {
        "id": "fuyaIibnnYix"
      },
      "source": [
        "# == Q3 ==\n",
        "# El rendimiento es excelente, sin embargo, hay un detalle (¿problema?) de dependencia en los datos.\n",
        "# ¿Puedes notar cuál es, y explicar el excelente rendimiento?"
      ],
      "execution_count": null,
      "outputs": []
    },
    {
      "cell_type": "markdown",
      "metadata": {
        "id": "X5ZISsg7k_gi"
      },
      "source": [
        "Si existe dependencia de los datos, de hecho se realizó una función auxiliar que nos ayuda a mantener los últimos 4 datos para con esos hacer la predicción. Por otro lado, el excelente desempeño es porque es una serie de tiempo con cierta tendencia que va incrementando poco a poco a lo largo del tiempo y los últimos 4 datos si estan funcionando para la predicción, logran capturar la tendencia pasada para su pronóstico futuro. Del mismo modo, es importante mencionar que el tensor X's tiene incluído la variable target,por eso también de tiene un muy buen rendimiento."
      ]
    },
    {
      "cell_type": "code",
      "metadata": {
        "id": "Liu3-qIWRzCE"
      },
      "source": [
        "# == Q4 ==\n",
        "# Revisa la documentación de tensorflow, y explica la diferencia entre los layers RNN y SimpleRNN."
      ],
      "execution_count": null,
      "outputs": []
    },
    {
      "cell_type": "markdown",
      "metadata": {
        "id": "2HCuBD6_mItA"
      },
      "source": [
        "RNN es una clase de keras que contiene 3 tipos de capas integradas:\n",
        "+ keras.layers.SimpleRNN \n",
        "\n",
        "+ keras.layers.GRU  \n",
        "\n",
        "+ keras.layers.LSTM \n",
        "\n",
        "SimpleRNN hereda de la clase RNN y es una red completamente conectada (fully conected) donde el output es despues alimentado como input. "
      ]
    },
    {
      "cell_type": "markdown",
      "metadata": {
        "id": "rRu-0lmZ-5JK"
      },
      "source": [
        "# Parte 4: Predice con \"delay\""
      ]
    },
    {
      "cell_type": "code",
      "metadata": {
        "id": "oQzYtAsV8m20"
      },
      "source": [
        "# == Q5 ==\n",
        "# A continuación se presenta la función \"delayed_dataset\", la cual formatea los datos para asociar y[t] con\n",
        "# x[t-delay] hasta x[t-delay-history]. Por ejemplo, para hacer prónosticos del tipo\n",
        "# y[10] = f(x[7], x[6], x[5]; \\Omega). Donde tanto x como y pueden ser univariados o multivariados.\n",
        "#\n",
        "# For instance, calling such a function with the \n",
        "# x_train, y_train = delayed_dataset(X_train[:20, :3], X_train[:20, 3:], delay=2, hist=4)\n",
        "# must return x_train and y_train with the following shapes,\n",
        "# x_train.shape = (14, 4, 3) # 14 samples, each of 4 time-steps, each of 3 features\n",
        "# y_train.shape = (14, 2)    # 14 label-samples, each of two values\n",
        "#\n",
        "# The following table shows indices information (not need to print it)\n",
        "# IND:  0, Xids:  0 --  3, -- Yids:  5\n",
        "# IND:  1, Xids:  1 --  4, -- Yids:  6\n",
        "# IND:  2, Xids:  2 --  5, -- Yids:  7\n",
        "# IND:  3, Xids:  3 --  6, -- Yids:  8\n",
        "# IND:  4, Xids:  4 --  7, -- Yids:  9\n",
        "# IND:  5, Xids:  5 --  8, -- Yids: 10\n",
        "# IND:  6, Xids:  6 --  9, -- Yids: 11\n",
        "# IND:  7, Xids:  7 -- 10, -- Yids: 12\n",
        "# IND:  8, Xids:  8 -- 11, -- Yids: 13\n",
        "# IND:  9, Xids:  9 -- 12, -- Yids: 14\n",
        "# IND: 10, Xids: 10 -- 13, -- Yids: 15\n",
        "# IND: 11, Xids: 11 -- 14, -- Yids: 16\n",
        "# IND: 12, Xids: 12 -- 15, -- Yids: 17\n",
        "# IND: 13, Xids: 13 -- 16, -- Yids: 18"
      ],
      "execution_count": null,
      "outputs": []
    },
    {
      "cell_type": "code",
      "metadata": {
        "id": "z-rvklZ07eT3"
      },
      "source": [
        "# AUX funtion to build time-series dataset\n",
        "def delayed_dataset(X, Y, delay, hist_size):\n",
        "  '''\n",
        "  Params\n",
        "    X: data matrix [n_time_steps, n_X_feats]\n",
        "    Y: label matrix [n_time_steps, n_Y_feats]\n",
        "    delay: integer indicating the delay between last time step in x and time step in y\n",
        "    hist_size: integer indicating the number of time steps in each sample of x\n",
        "  Returns\n",
        "    x: tensor of input data [n_samples, n_timesteps, n_X_features]\n",
        "    y: tensor of output data [n_samples, n_Y_features]\n",
        "  '''\n",
        "  n_samples = Y.shape[0] - (delay + hist_size)\n",
        "  x = np.zeros((n_samples, hist_size, X.shape[1]))\n",
        "  y = np.zeros((n_samples, Y.shape[1]))\n",
        "\n",
        "  for ind in range(n_samples):    \n",
        "    x[ind] = X[ind : ind + hist_size]\n",
        "    y[ind] = Y[ind + hist_size + delay]\n",
        "  return x, y"
      ],
      "execution_count": null,
      "outputs": []
    },
    {
      "cell_type": "code",
      "metadata": {
        "id": "RkaISRXvBAKi",
        "colab": {
          "base_uri": "https://localhost:8080/"
        },
        "outputId": "6e1ab61e-730d-4c9c-f26d-3d144b5c6a76"
      },
      "source": [
        "# Usa la función anterior para generar sets de entrenamiento y validación donde,\n",
        "# x contenga (open, high, low), e y contenga (close, volume)\n",
        "\n",
        "delay=7\n",
        "history_size=7\n",
        "\n",
        "x_train, y_train = delayed_dataset(X_train[:,0:3], X_train[:, 3:5], delay, history_size)\n",
        "x_test, y_test = delayed_dataset(X_test[:,0:3], X_test[:, 3:5], delay, history_size)\n",
        "\n",
        "print(x_train.shape)\n",
        "print(x_test.shape)\n",
        "print(y_train.shape)\n",
        "print(y_test.shape)"
      ],
      "execution_count": null,
      "outputs": [
        {
          "output_type": "stream",
          "text": [
            "(11232, 7, 3)\n",
            "(2798, 7, 3)\n",
            "(11232, 2)\n",
            "(2798, 2)\n"
          ],
          "name": "stdout"
        }
      ]
    },
    {
      "cell_type": "code",
      "metadata": {
        "id": "HO1bv7LxBVE5"
      },
      "source": [
        "# == Q6 ==\n",
        "# Diseña una RNN para resolver el problema de regresion multivariada que acabas de generar.\n",
        "# Reporta el mejor resultado que hayas obtenido y la red que lo haya generado"
      ],
      "execution_count": null,
      "outputs": []
    },
    {
      "cell_type": "markdown",
      "metadata": {
        "id": "HY2G2xnmAJPD"
      },
      "source": [
        "La mejor RNN definida para resolver el problema de regresión multivariado es la siguiente:"
      ]
    },
    {
      "cell_type": "code",
      "metadata": {
        "id": "jh8n4gOnGqok",
        "colab": {
          "base_uri": "https://localhost:8080/"
        },
        "outputId": "f46bb293-0743-471f-d0ee-3e22bf1e0101"
      },
      "source": [
        "# Your RNN Here\n",
        "rnn_model = Sequential()\n",
        "rnn_model.add(Input(shape=(x_train.shape[1], x_train.shape[2])))\n",
        "#256\n",
        "rnn_model.add(SimpleRNN(units=32, activation='relu',return_sequences=False))\n",
        "rnn_model.add(Dropout(0.5))\n",
        "rnn_model.add(Dense(2, activation='sigmoid'))\n",
        "\n",
        "rnn_model.summary()"
      ],
      "execution_count": null,
      "outputs": [
        {
          "output_type": "stream",
          "text": [
            "Model: \"sequential_14\"\n",
            "_________________________________________________________________\n",
            "Layer (type)                 Output Shape              Param #   \n",
            "=================================================================\n",
            "simple_rnn_16 (SimpleRNN)    (None, 32)                1152      \n",
            "_________________________________________________________________\n",
            "dropout_13 (Dropout)         (None, 32)                0         \n",
            "_________________________________________________________________\n",
            "dense_10 (Dense)             (None, 2)                 66        \n",
            "=================================================================\n",
            "Total params: 1,218\n",
            "Trainable params: 1,218\n",
            "Non-trainable params: 0\n",
            "_________________________________________________________________\n"
          ],
          "name": "stdout"
        }
      ]
    },
    {
      "cell_type": "code",
      "metadata": {
        "id": "E8eZSRSmGzFo"
      },
      "source": [
        "# Compile\n",
        "rnn_model.compile(loss='mse', optimizer='rmsprop')"
      ],
      "execution_count": null,
      "outputs": []
    },
    {
      "cell_type": "code",
      "metadata": {
        "id": "EoodPlVNHbRp",
        "colab": {
          "base_uri": "https://localhost:8080/"
        },
        "outputId": "8528b74a-b1fa-44ee-a4fb-6f743c5cfcfd"
      },
      "source": [
        "# Train\n",
        "history = rnn_model.fit(x_train, y_train, epochs=10, batch_size=256, validation_split=0.1)"
      ],
      "execution_count": null,
      "outputs": [
        {
          "output_type": "stream",
          "text": [
            "Epoch 1/10\n",
            "40/40 [==============================] - 1s 10ms/step - loss: 0.1589 - val_loss: 0.0888\n",
            "Epoch 2/10\n",
            "40/40 [==============================] - 0s 4ms/step - loss: 0.0456 - val_loss: 0.0091\n",
            "Epoch 3/10\n",
            "40/40 [==============================] - 0s 5ms/step - loss: 0.0164 - val_loss: 0.0073\n",
            "Epoch 4/10\n",
            "40/40 [==============================] - 0s 5ms/step - loss: 0.0116 - val_loss: 0.0065\n",
            "Epoch 5/10\n",
            "40/40 [==============================] - 0s 5ms/step - loss: 0.0094 - val_loss: 0.0065\n",
            "Epoch 6/10\n",
            "40/40 [==============================] - 0s 5ms/step - loss: 0.0079 - val_loss: 0.0071\n",
            "Epoch 7/10\n",
            "40/40 [==============================] - 0s 5ms/step - loss: 0.0075 - val_loss: 0.0072\n",
            "Epoch 8/10\n",
            "40/40 [==============================] - 0s 5ms/step - loss: 0.0064 - val_loss: 0.0087\n",
            "Epoch 9/10\n",
            "40/40 [==============================] - 0s 5ms/step - loss: 0.0058 - val_loss: 0.0087\n",
            "Epoch 10/10\n",
            "40/40 [==============================] - 0s 5ms/step - loss: 0.0056 - val_loss: 0.0080\n"
          ],
          "name": "stdout"
        }
      ]
    },
    {
      "cell_type": "code",
      "metadata": {
        "colab": {
          "base_uri": "https://localhost:8080/",
          "height": 282
        },
        "id": "CKztaSdLHe-j",
        "outputId": "2b38cb89-7461-4deb-fb0c-6c10eccf14f1"
      },
      "source": [
        "# Plot loss\n",
        "plt.figure(figsize=(12, 4))\n",
        "plt.plot(history.history['loss'], label='Training', linewidth=2)\n",
        "plt.plot(history.history['val_loss'], label='Validation', linewidth=2)\n",
        "plt.legend()\n",
        "plt.xlabel('Epoch')\n",
        "plt.ylabel('Loss')\n",
        "plt.grid(True)\n",
        "plt.show()"
      ],
      "execution_count": null,
      "outputs": [
        {
          "output_type": "display_data",
          "data": {
            "image/png": "[encoded data removed]",
            "text/plain": [
              "<Figure size 864x288 with 1 Axes>"
            ]
          },
          "metadata": {
            "tags": [],
            "needs_background": "light"
          }
        }
      ]
    },
    {
      "cell_type": "code",
      "metadata": {
        "id": "ogmYe-M7AUs_"
      },
      "source": [
        "loss_train = []\n",
        "loss_validation = []\n",
        "pars = []\n",
        "\n",
        "# Compute test loss \n",
        "loss_train.append(rnn_model.history.history['loss'][-1])\n",
        "loss_validation.append(rnn_model.history.history['val_loss'][-1])\n",
        "    \n",
        "pars.append(rnn_model.count_params())\n",
        "table={'loss_train':loss_train,'loss_validation':loss_validation, 'params':pars}       \n",
        "results_=pd.DataFrame(table)"
      ],
      "execution_count": null,
      "outputs": []
    },
    {
      "cell_type": "markdown",
      "metadata": {
        "id": "Usht8W_NBEUN"
      },
      "source": [
        "El resultado del mejor modelo definido para el problema de regresión multivariado es el siguiente:"
      ]
    },
    {
      "cell_type": "code",
      "metadata": {
        "colab": {
          "base_uri": "https://localhost:8080/",
          "height": 76
        },
        "id": "UIknBVeKAUz4",
        "outputId": "12431433-8c62-48ca-b8a2-892331dcb413"
      },
      "source": [
        "results_"
      ],
      "execution_count": null,
      "outputs": [
        {
          "output_type": "execute_result",
          "data": {
            "text/html": [
              "<div>\n",
              "<style scoped>\n",
              "    .dataframe tbody tr th:only-of-type {\n",
              "        vertical-align: middle;\n",
              "    }\n",
              "\n",
              "    .dataframe tbody tr th {\n",
              "        vertical-align: top;\n",
              "    }\n",
              "\n",
              "    .dataframe thead th {\n",
              "        text-align: right;\n",
              "    }\n",
              "</style>\n",
              "<table border=\"1\" class=\"dataframe\">\n",
              "  <thead>\n",
              "    <tr style=\"text-align: right;\">\n",
              "      <th></th>\n",
              "      <th>loss_train</th>\n",
              "      <th>loss_validation</th>\n",
              "      <th>params</th>\n",
              "    </tr>\n",
              "  </thead>\n",
              "  <tbody>\n",
              "    <tr>\n",
              "      <th>0</th>\n",
              "      <td>0.005618</td>\n",
              "      <td>0.007952</td>\n",
              "      <td>1218</td>\n",
              "    </tr>\n",
              "  </tbody>\n",
              "</table>\n",
              "</div>"
            ],
            "text/plain": [
              "   loss_train  loss_validation  params\n",
              "0    0.005618         0.007952    1218"
            ]
          },
          "metadata": {
            "tags": []
          },
          "execution_count": 111
        }
      ]
    },
    {
      "cell_type": "code",
      "metadata": {
        "colab": {
          "base_uri": "https://localhost:8080/"
        },
        "id": "aNGhsPv-INBZ",
        "outputId": "01be5e33-265e-4f7e-ff65-90d7d2733c4e"
      },
      "source": [
        "# Predict on training and test sets\n",
        "y_train_hat = rnn_model.predict(x_train)\n",
        "y_test_hat = rnn_model.predict(x_test)\n",
        "print(y_train_hat.shape)\n",
        "print(y_test_hat.shape)"
      ],
      "execution_count": null,
      "outputs": [
        {
          "output_type": "stream",
          "text": [
            "(11232, 2)\n",
            "(2798, 2)\n"
          ],
          "name": "stdout"
        }
      ]
    },
    {
      "cell_type": "code",
      "metadata": {
        "id": "tg0PQTtHIRM4",
        "colab": {
          "base_uri": "https://localhost:8080/",
          "height": 278
        },
        "outputId": "45787f15-3a04-4b63-97e3-0adcd89ea2f0"
      },
      "source": [
        "# Plot y_train, y_train_hat, y_test and y_test_hat\n",
        "x_ticks = np.arange(len(y_train) + len(y_test))\n",
        "\n",
        "plt.figure(figsize=(18, 4))\n",
        "plt.subplot(1, 2, 1)\n",
        "plt.plot(x_ticks[:len(y_train)], y_train[:, 0])\n",
        "plt.plot(x_ticks[:len(y_train)], y_train_hat[:, 0])\n",
        "plt.plot(x_ticks[len(y_train):], y_test[:, 0])\n",
        "plt.plot(x_ticks[len(y_train):], y_test_hat[:, 0])\n",
        "plt.ylabel('Close value')\n",
        "plt.xlabel('Days')\n",
        "plt.legend(['y_train', '$\\hat{y}$_train', 'y_test', '$\\hat{y}$_test'], loc='upper left')\n",
        "plt.grid()\n",
        "\n",
        "plt.subplot(1, 2, 2)\n",
        "plt.plot(x_ticks[:len(y_train)], y_train[:, 1])\n",
        "plt.plot(x_ticks[:len(y_train)], y_train_hat[:, 1])\n",
        "plt.plot(x_ticks[len(y_train):], y_test[:, 1])\n",
        "plt.plot(x_ticks[len(y_train):], y_test_hat[:, 1])\n",
        "plt.ylabel('Volume value')\n",
        "plt.xlabel('Days')\n",
        "plt.legend(['y_train', '$\\hat{y}$_train', 'y_test', '$\\hat{y}$_test'], loc='upper left')\n",
        "plt.grid()\n",
        "\n",
        "plt.show()"
      ],
      "execution_count": null,
      "outputs": [
        {
          "output_type": "display_data",
          "data": {
            "image/png": "[encoded data removed]",
            "text/plain": [
              "<Figure size 1296x288 with 2 Axes>"
            ]
          },
          "metadata": {
            "tags": [],
            "needs_background": "light"
          }
        }
      ]
    },
    {
      "cell_type": "code",
      "metadata": {
        "id": "qmH5BpXMIgKb"
      },
      "source": [
        "# == Q7 ==\n",
        "# Parece que predecir 'close' es muy fácil, pero no predecir 'volume'.\n",
        "# Explica las razones por las cuales crees que obtienes esos resultados."
      ],
      "execution_count": null,
      "outputs": []
    },
    {
      "cell_type": "markdown",
      "metadata": {
        "id": "rx-kxUK--DYH"
      },
      "source": [
        "Se utilizaron diferentes parámetros de 'delay' e 'history_size' y para cada uno de ellos la prediccion de 'close' se adecuaba de mejor manera a los datos reales; mientras que para 'volume' no sucedía esto. Por lo que el spam de tiempo considerado no afectaba considerablemente el desempeño del pronóstico para 'volume',es decir, no mejora sustancialmente.\n",
        "\n",
        "Además podemos notar en la gráfica de 'close value' que la serie de entrenamiento consideró tanto periodos con altos niveles de la variable respuesta así como caidas en la misma, lo cual es similar a la base de prueba. Mientras que para 'volume value', el periodo de entrenamiento no tiene un comportamiento tan oscilatorio como el de prueba.\n",
        "\n",
        "Para realizar una mejor predicción de ambas variables se necesita realizar un análisis más profundo de la relación de 'volume' y 'close value' y entender correctamente el comportamiento de 'volumen' despuès de los dias 10,000 ya que tiene crecimientos muy diferentes respecto a su historia."
      ]
    },
    {
      "cell_type": "code",
      "metadata": {
        "id": "gmmhAl8zRzCG"
      },
      "source": [
        "# == Q8 ==\n",
        "# El ejemplo proporcionado contiene una capa tipo SimpleRNN, para la cual no indicamos tipo de activación\n",
        "# ¿Por qué crees que no lo hacemos?"
      ],
      "execution_count": null,
      "outputs": []
    },
    {
      "cell_type": "markdown",
      "metadata": {
        "id": "OfkR-kj2-Gm0"
      },
      "source": [
        "De acuerdo a la documentación, \"Activation function to use. Default: hyperbolic tangent (tanh).\" al no seleccionar activación se considera tanh. Referencia: https://www.tensorflow.org/api_docs/python/tf/keras/layers/SimpleRNN?hl=es \n",
        "\n",
        "Como hemos revisado durante el curso, esta función de activación hace referencia a lo siguiente:\n",
        "\n",
        "*   Tanh: Output layer for regression with−1≤y≤1\n",
        "\n",
        "Y como escalamos las variables antes de realizar el modelo sabemos que los valores se encuentran dentro de ese rango por lo que la activación puede ser utilizada de acuerdo a la manipulación de los datos hechos anteriormente."
      ]
    },
    {
      "cell_type": "code",
      "metadata": {
        "id": "hO3kkrRKRzCG"
      },
      "source": [
        "# == Q9 ==\n",
        "# La capas tipo SimpleRNN tiene un parámetro \"return_sequence\" que por defecto es igual a False.\n",
        "# ¿Qué sucede si lo ponemos igual a True?"
      ],
      "execution_count": null,
      "outputs": []
    },
    {
      "cell_type": "markdown",
      "metadata": {
        "id": "gLpXMQMbrGuE"
      },
      "source": [
        "Si se deja el default como *True* la capa solo regresará solo la del estado oculto de la última capa, en problemas de regresión o clasificación es lo único que se necesita para utilizarse en la función de activación de salida. Sin embargo en este caso si fue necesario agregar *return_sequence = True* para agregar más capas RNN, lo cual tiene sentido porque necesitamos la salida completa para volver a meterla como input, que es de hecho lo que hace la red recurrente. "
      ]
    }
  ]
}