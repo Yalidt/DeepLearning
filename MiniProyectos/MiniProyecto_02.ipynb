{
 "cells": [
  {
   "cell_type": "markdown",
   "metadata": {
    "id": "OxrafwA2q2eu"
   },
   "source": [
    "# Optimizers\n",
    "\n",
    "\n",
    "\n",
    "### Yedam Fortiz 119523\n",
    "\n",
    "### Yalidt Díaz 141394"
   ]
  },
  {
   "cell_type": "code",
   "execution_count": 2,
   "metadata": {
    "id": "FrJ139mYygEd"
   },
   "outputs": [],
   "source": [
    "#Libraries\n",
    "import io\n",
    "import requests\n",
    "import pandas as pd\n",
    "import numpy as np\n",
    "import pandas as pd\n",
    "import matplotlib.pyplot as plt"
   ]
  },
  {
   "cell_type": "code",
   "execution_count": 3,
   "metadata": {
    "id": "MoktHGGca5EI"
   },
   "outputs": [],
   "source": [
    "# Usaremos la base de datos: Beijing Multi-Site Air-Quality Data Data Set,\n",
    "# la cual puede ser obtenida desde https://archive.ics.uci.edu/ml/datasets/Beijing+Multi-Site+Air-Quality+Data\n",
    "# (revisar la página para más detalles sobre los datos)\n",
    "# Se ha proporcionado un archivo csv con la información obtenida de la estación\n",
    "# de monitoreo Aotizhongxin, el cual contiene 35,064 registros.\n",
    "\n",
    "# El objetivo es poder predecir la concetración de PM2.5 y de PM10 a partir de las\n",
    "# variables año, mes, día, hora, temperatura, presión, punto de rocío, \n",
    "# precipitación y velocidad del viento."
   ]
  },
  {
   "cell_type": "markdown",
   "metadata": {
    "id": "jXBtqUn1jYEh"
   },
   "source": [
    "# **Antecedentes**\n",
    "\n",
    "Se han proporcionado código en Python y unabase de datos sobre mediciones de la calidad de aire de la estación de Aotizhongxin (“DL_03_Optimizers.ipynb” y “PRSA_Aotizhongxin.csv”). Usando como base la información proporcionada, deben construir un modelo de regresión usando redes neuronales profundas tipo MLP (las únicas que conocemos hasta ahora).La base de datos tiene 18 variables (features), de las cuales, 6 corresponden a concentración medida de partículas en el aire (PM2.5, PM10, SO2, NO2, CO, O3), 6 son indicadores climáticos (temperatura, presión atmosférica, punto de rocío, precipitación, dirección del viento, y velocidad del viento), y el resto corresponden a variables propias de la toma del registro (índice numérico, día, hora, lugar, etc). Quizás no todas sean relevantes para nuestro análisis. Utilizaremos los indicadores climáticos como variables independientes  (xi),  y  las  variables  de  la  concentración  de  partículas  en  el  aire  como  variables dependientes (yi).\n",
    "\n",
    "La base de datos tiene 18 variables (features), de las cuales, 6 corresponden a concentración medida de partículas en el aire (PM2.5, PM10, SO2, NO2, CO, O3), 6 son indicadores climáticos (temperatura, presión atmosférica, punto de rocío, precipitación, dirección del viento, y velocidad del viento), y el resto corresponden a variables propias de la toma del registro (índice numérico, día, hora, lugar, etc). Quizás no todas sean relevantes para nuestro análisis. Utilizaremos los indicadores climáticos como variables independientes  (xi),  y  las  variables  de  la  concentración  de  partículas  en  el  aire  como  variables dependientes (yi)."
   ]
  },
  {
   "cell_type": "markdown",
   "metadata": {
    "id": "oUAPafnTayUf"
   },
   "source": [
    "# Part 1: Load data into Colab"
   ]
  },
  {
   "cell_type": "code",
   "execution_count": 4,
   "metadata": {
    "id": "Uteb2otGynlE"
   },
   "outputs": [],
   "source": [
    "#URL to read data\n",
    "url = \"https://raw.githubusercontent.com/Yalidt/DeepLearning/main/MiniProyectos/Datos_MP_02_PRSA_Aotizhongxin.csv?raw=true\"\n",
    "rurl=requests.get(url).content\n",
    "\n",
    "# Read data to pandas\n",
    "df = pd.read_csv(io.StringIO(rurl.decode('utf-8')))"
   ]
  },
  {
   "cell_type": "code",
   "execution_count": 5,
   "metadata": {
    "colab": {
     "base_uri": "https://localhost:8080/",
     "height": 198
    },
    "id": "Yh9Jvn3xzKgJ",
    "outputId": "781cd5fc-80f8-497d-94b1-47e781e26d4e"
   },
   "outputs": [
    {
     "data": {
      "text/html": [
       "<div>\n",
       "<style scoped>\n",
       "    .dataframe tbody tr th:only-of-type {\n",
       "        vertical-align: middle;\n",
       "    }\n",
       "\n",
       "    .dataframe tbody tr th {\n",
       "        vertical-align: top;\n",
       "    }\n",
       "\n",
       "    .dataframe thead th {\n",
       "        text-align: right;\n",
       "    }\n",
       "</style>\n",
       "<table border=\"1\" class=\"dataframe\">\n",
       "  <thead>\n",
       "    <tr style=\"text-align: right;\">\n",
       "      <th></th>\n",
       "      <th>No</th>\n",
       "      <th>year</th>\n",
       "      <th>month</th>\n",
       "      <th>day</th>\n",
       "      <th>hour</th>\n",
       "      <th>PM2.5</th>\n",
       "      <th>PM10</th>\n",
       "      <th>SO2</th>\n",
       "      <th>NO2</th>\n",
       "      <th>CO</th>\n",
       "      <th>O3</th>\n",
       "      <th>TEMP</th>\n",
       "      <th>PRES</th>\n",
       "      <th>DEWP</th>\n",
       "      <th>RAIN</th>\n",
       "      <th>wd</th>\n",
       "      <th>WSPM</th>\n",
       "      <th>station</th>\n",
       "    </tr>\n",
       "  </thead>\n",
       "  <tbody>\n",
       "    <tr>\n",
       "      <th>0</th>\n",
       "      <td>1</td>\n",
       "      <td>2013</td>\n",
       "      <td>3</td>\n",
       "      <td>1</td>\n",
       "      <td>0</td>\n",
       "      <td>4.0</td>\n",
       "      <td>4.0</td>\n",
       "      <td>4.0</td>\n",
       "      <td>7.0</td>\n",
       "      <td>300.0</td>\n",
       "      <td>77.0</td>\n",
       "      <td>-0.7</td>\n",
       "      <td>1023.0</td>\n",
       "      <td>-18.8</td>\n",
       "      <td>0.0</td>\n",
       "      <td>NNW</td>\n",
       "      <td>4.4</td>\n",
       "      <td>Aotizhongxin</td>\n",
       "    </tr>\n",
       "    <tr>\n",
       "      <th>1</th>\n",
       "      <td>2</td>\n",
       "      <td>2013</td>\n",
       "      <td>3</td>\n",
       "      <td>1</td>\n",
       "      <td>1</td>\n",
       "      <td>8.0</td>\n",
       "      <td>8.0</td>\n",
       "      <td>4.0</td>\n",
       "      <td>7.0</td>\n",
       "      <td>300.0</td>\n",
       "      <td>77.0</td>\n",
       "      <td>-1.1</td>\n",
       "      <td>1023.2</td>\n",
       "      <td>-18.2</td>\n",
       "      <td>0.0</td>\n",
       "      <td>N</td>\n",
       "      <td>4.7</td>\n",
       "      <td>Aotizhongxin</td>\n",
       "    </tr>\n",
       "    <tr>\n",
       "      <th>2</th>\n",
       "      <td>3</td>\n",
       "      <td>2013</td>\n",
       "      <td>3</td>\n",
       "      <td>1</td>\n",
       "      <td>2</td>\n",
       "      <td>7.0</td>\n",
       "      <td>7.0</td>\n",
       "      <td>5.0</td>\n",
       "      <td>10.0</td>\n",
       "      <td>300.0</td>\n",
       "      <td>73.0</td>\n",
       "      <td>-1.1</td>\n",
       "      <td>1023.5</td>\n",
       "      <td>-18.2</td>\n",
       "      <td>0.0</td>\n",
       "      <td>NNW</td>\n",
       "      <td>5.6</td>\n",
       "      <td>Aotizhongxin</td>\n",
       "    </tr>\n",
       "    <tr>\n",
       "      <th>3</th>\n",
       "      <td>4</td>\n",
       "      <td>2013</td>\n",
       "      <td>3</td>\n",
       "      <td>1</td>\n",
       "      <td>3</td>\n",
       "      <td>6.0</td>\n",
       "      <td>6.0</td>\n",
       "      <td>11.0</td>\n",
       "      <td>11.0</td>\n",
       "      <td>300.0</td>\n",
       "      <td>72.0</td>\n",
       "      <td>-1.4</td>\n",
       "      <td>1024.5</td>\n",
       "      <td>-19.4</td>\n",
       "      <td>0.0</td>\n",
       "      <td>NW</td>\n",
       "      <td>3.1</td>\n",
       "      <td>Aotizhongxin</td>\n",
       "    </tr>\n",
       "    <tr>\n",
       "      <th>4</th>\n",
       "      <td>5</td>\n",
       "      <td>2013</td>\n",
       "      <td>3</td>\n",
       "      <td>1</td>\n",
       "      <td>4</td>\n",
       "      <td>3.0</td>\n",
       "      <td>3.0</td>\n",
       "      <td>12.0</td>\n",
       "      <td>12.0</td>\n",
       "      <td>300.0</td>\n",
       "      <td>72.0</td>\n",
       "      <td>-2.0</td>\n",
       "      <td>1025.2</td>\n",
       "      <td>-19.5</td>\n",
       "      <td>0.0</td>\n",
       "      <td>N</td>\n",
       "      <td>2.0</td>\n",
       "      <td>Aotizhongxin</td>\n",
       "    </tr>\n",
       "  </tbody>\n",
       "</table>\n",
       "</div>"
      ],
      "text/plain": [
       "   No  year  month  day  hour  ...  DEWP  RAIN   wd  WSPM       station\n",
       "0   1  2013      3    1     0  ... -18.8   0.0  NNW   4.4  Aotizhongxin\n",
       "1   2  2013      3    1     1  ... -18.2   0.0    N   4.7  Aotizhongxin\n",
       "2   3  2013      3    1     2  ... -18.2   0.0  NNW   5.6  Aotizhongxin\n",
       "3   4  2013      3    1     3  ... -19.4   0.0   NW   3.1  Aotizhongxin\n",
       "4   5  2013      3    1     4  ... -19.5   0.0    N   2.0  Aotizhongxin\n",
       "\n",
       "[5 rows x 18 columns]"
      ]
     },
     "execution_count": 5,
     "metadata": {
      "tags": []
     },
     "output_type": "execute_result"
    }
   ],
   "source": [
    "df.dropna(inplace=True)\n",
    "df.head(5)"
   ]
  },
  {
   "cell_type": "markdown",
   "metadata": {
    "id": "ZEYqZH0mcR9w"
   },
   "source": [
    "# Part 2: Format data and split it into numpy arrays"
   ]
  },
  {
   "cell_type": "code",
   "execution_count": 6,
   "metadata": {
    "id": "yWSdbWGRZbsY"
   },
   "outputs": [],
   "source": [
    "# AUX function to put categorical data into one-hot encoding format\n",
    "from sklearn.preprocessing import OneHotEncoder\n",
    "def winddir_to_categorical(winddir):\n",
    "  enc = OneHotEncoder(sparse=False)\n",
    "  WD = enc.fit_transform(winddir)\n",
    "  print(\"== categories:\", enc.categories_, \"==\")\n",
    "  return WD"
   ]
  },
  {
   "cell_type": "code",
   "execution_count": 7,
   "metadata": {
    "colab": {
     "base_uri": "https://localhost:8080/",
     "height": 679
    },
    "id": "hgXWJHAlZbvg",
    "outputId": "5ccf60da-7193-46f7-8377-b73b0ded11bf"
   },
   "outputs": [
    {
     "name": "stdout",
     "output_type": "stream",
     "text": [
      "== categories: [array(['E', 'ENE', 'ESE', 'N', 'NE', 'NNE', 'NNW', 'NW', 'S', 'SE', 'SSE',\n",
      "       'SSW', 'SW', 'W', 'WNW', 'WSW'], dtype=object)] ==\n",
      "Input values X with shape (31815, 25). With values\n",
      " min = [ 2.013e+03  1.000e+00  1.000e+00  0.000e+00 -1.680e+01  9.859e+02\n",
      " -3.530e+01  0.000e+00  0.000e+00  0.000e+00  0.000e+00  0.000e+00\n",
      "  0.000e+00  0.000e+00  0.000e+00  0.000e+00  0.000e+00  0.000e+00\n",
      "  0.000e+00  0.000e+00  0.000e+00  0.000e+00  0.000e+00  0.000e+00\n",
      "  0.000e+00]\n",
      " mean = [2.01471491e+03 6.40188590e+00 1.55785636e+01 1.16247996e+01\n",
      " 1.37756108e+01 1.01180038e+03 3.24110640e+00 6.82351092e-02\n",
      " 1.72047148e+00 7.51532296e-02 1.12619833e-01 5.05421971e-02\n",
      " 5.86830112e-02 1.43988685e-01 6.99984284e-02 4.45073079e-02\n",
      " 5.37482320e-02 3.81581015e-02 3.91010530e-02 2.96715386e-02\n",
      " 6.03488920e-02 9.57724344e-02 3.36005029e-02 3.14002829e-02\n",
      " 6.27062706e-02]\n",
      " stdd = [ 1.16251735  3.41679338  8.79481542  6.92676545 11.36885668 10.33870697\n",
      " 13.66764783  0.83747595  1.20422141  0.26363843  0.31612752  0.21906091\n",
      "  0.23503046  0.35107826  0.25514437  0.20621932  0.2255202   0.19157782\n",
      "  0.1938354   0.16967952  0.23813211  0.29427891  0.18019853  0.17439698\n",
      "  0.2424339 ]\n",
      " max = [2.017e+03 1.200e+01 3.100e+01 2.300e+01 4.050e+01 1.042e+03 2.850e+01\n",
      " 4.640e+01 1.120e+01 1.000e+00 1.000e+00 1.000e+00 1.000e+00 1.000e+00\n",
      " 1.000e+00 1.000e+00 1.000e+00 1.000e+00 1.000e+00 1.000e+00 1.000e+00\n",
      " 1.000e+00 1.000e+00 1.000e+00 1.000e+00]\n"
     ]
    },
    {
     "data": {
      "image/png": "[encoded data removed]",
      "text/plain": [
       "<Figure size 432x288 with 1 Axes>"
      ]
     },
     "metadata": {
      "needs_background": "light",
      "tags": []
     },
     "output_type": "display_data"
    }
   ],
   "source": [
    "# Extract input features and convert them to a numpy array\n",
    "X = df[['year', 'month', 'day', 'hour', 'TEMP', 'PRES', 'DEWP', 'RAIN', 'WSPM' ]].to_numpy()\n",
    "WD = winddir_to_categorical(df[['wd']])\n",
    "X = np.concatenate((X, WD), axis=1)\n",
    "\n",
    "print(f\"Input values X with shape {X.shape}. With values\")\n",
    "\n",
    "\n",
    "print(f\" min = {X.min(axis=0)}\")\n",
    "print(f\" mean = {X.mean(axis=0)}\")\n",
    "print(f\" stdd = {X.std(axis=0)}\")\n",
    "print(f\" max = {X.max(axis=0)}\")\n",
    "\n",
    "plt.boxplot(X)\n",
    "plt.show()"
   ]
  },
  {
   "cell_type": "code",
   "execution_count": 8,
   "metadata": {
    "colab": {
     "base_uri": "https://localhost:8080/",
     "height": 714
    },
    "id": "CpLhmFD8gZ5P",
    "outputId": "77231517-35d6-44ae-98f1-b73a9958a391"
   },
   "outputs": [
    {
     "name": "stdout",
     "output_type": "stream",
     "text": [
      "[2.01471491e+03 6.40188590e+00 1.55785636e+01 1.16247996e+01\n",
      " 1.37756108e+01 1.01180038e+03 3.24110640e+00 6.82351092e-02\n",
      " 1.72047148e+00 7.51532296e-02 1.12619833e-01 5.05421971e-02\n",
      " 5.86830112e-02 1.43988685e-01 6.99984284e-02 4.45073079e-02\n",
      " 5.37482320e-02 3.81581015e-02 3.91010530e-02 2.96715386e-02\n",
      " 6.03488920e-02 9.57724344e-02 3.36005029e-02 3.14002829e-02\n",
      " 6.27062706e-02]\n",
      " min = [-1.47517312 -1.58098114 -1.65763156 -1.67824358 -2.68941826 -2.50518608\n",
      " -2.81987851 -0.0814771  -1.42870029 -0.28506174 -0.35624812 -0.23072212\n",
      " -0.24968258 -0.41013273 -0.27434832 -0.21582511 -0.23833001 -0.19917808\n",
      " -0.20172298 -0.17486812 -0.2534261  -0.32544784 -0.1864638  -0.18005062\n",
      " -0.25865307]\n",
      " mean = [ 2.53620974e-13 -5.20961380e-15 -1.40856471e-15 -1.27022216e-17\n",
      " -1.02426039e-14 -1.09446446e-12 -5.83953233e-16  2.22055074e-15\n",
      "  1.58522417e-14  1.72582712e-14 -4.05981498e-15  1.36230193e-14\n",
      "  1.06470074e-14 -1.71220957e-14 -1.80721207e-14  1.59185533e-15\n",
      " -1.52863037e-14 -9.66857167e-16 -1.04650289e-14 -9.16496697e-17\n",
      "  7.44947610e-15 -1.07559691e-14 -7.01441105e-15 -7.47533943e-15\n",
      " -1.16311731e-14]\n",
      " stdd = [1. 1. 1. 1. 1. 1. 1. 1. 1. 1. 1. 1. 1. 1. 1. 1. 1. 1. 1. 1. 1. 1. 1. 1.\n",
      " 1.]\n",
      " max = [ 1.96563574  1.63841165  1.75346903  1.64220955  2.35066639  2.92102439\n",
      "  1.84807905 55.32309879  7.87191495  3.50801198  2.80703236  4.33421824\n",
      "  4.00508514  2.43823505  3.64500138  4.63338109  4.19586262  5.02063288\n",
      "  4.9572935   5.71859515  3.94592353  3.07268902  5.36297113  5.55399377\n",
      "  3.86618267]\n"
     ]
    },
    {
     "data": {
      "image/png": "[encoded data removed]",
      "text/plain": [
       "<Figure size 432x288 with 1 Axes>"
      ]
     },
     "metadata": {
      "needs_background": "light",
      "tags": []
     },
     "output_type": "display_data"
    }
   ],
   "source": [
    "# Normalize (zero-center) and standardize (scale) input data\n",
    "from sklearn.preprocessing import StandardScaler\n",
    "scalerX = StandardScaler()\n",
    "X = scalerX.fit_transform(X)\n",
    "print(scalerX.mean_)\n",
    "\n",
    "print(f\" min = {X.min(axis=0)}\")\n",
    "print(f\" mean = {X.mean(axis=0)}\")\n",
    "print(f\" stdd = {X.std(axis=0)}\")\n",
    "print(f\" max = {X.max(axis=0)}\")\n",
    "\n",
    "plt.boxplot(X)\n",
    "plt.show()"
   ]
  },
  {
   "cell_type": "code",
   "execution_count": 9,
   "metadata": {
    "colab": {
     "base_uri": "https://localhost:8080/",
     "height": 351
    },
    "id": "KF6cirdbcc7-",
    "outputId": "a4a6d56f-7311-458f-b7eb-8ece0cb5138a"
   },
   "outputs": [
    {
     "name": "stdout",
     "output_type": "stream",
     "text": [
      "Target values Y with shape (31815, 2). With values\n",
      " min = [3. 2.]\n",
      " mean = [81.86363036 58.97633192]\n",
      " stdd = [80.44822547 37.06080184]\n",
      " max = [713. 290.]\n"
     ]
    },
    {
     "data": {
      "image/png": "[encoded data removed]",
      "text/plain": [
       "<Figure size 432x288 with 1 Axes>"
      ]
     },
     "metadata": {
      "needs_background": "light",
      "tags": []
     },
     "output_type": "display_data"
    }
   ],
   "source": [
    "# Extract output features and convert them to a numpy array\n",
    "Y = df[['PM2.5', 'NO2']].to_numpy()\n",
    "\n",
    "print(f\"Target values Y with shape {Y.shape}. With values\")\n",
    "print(f\" min = {Y.min(axis=0)}\")\n",
    "print(f\" mean = {Y.mean(axis=0)}\")\n",
    "print(f\" stdd = {Y.std(axis=0)}\")\n",
    "print(f\" max = {Y.max(axis=0)}\")\n",
    "\n",
    "plt.boxplot(Y)\n",
    "plt.show()"
   ]
  },
  {
   "cell_type": "code",
   "execution_count": 10,
   "metadata": {
    "colab": {
     "base_uri": "https://localhost:8080/",
     "height": 351
    },
    "id": "aXx5UbOUcc_O",
    "outputId": "3a073824-e001-49f3-a441-032141fb6e9a"
   },
   "outputs": [
    {
     "name": "stdout",
     "output_type": "stream",
     "text": [
      "[81.86363036 58.97633192]\n",
      " min = [-0.98030292 -1.53737451]\n",
      " mean = [-3.21603501e-17  1.42934889e-17]\n",
      " stdd = [1. 1.]\n",
      " max = [7.84524911 6.23363923]\n"
     ]
    },
    {
     "data": {
      "image/png": "[encoded data removed]",
      "text/plain": [
       "<Figure size 432x288 with 1 Axes>"
      ]
     },
     "metadata": {
      "needs_background": "light",
      "tags": []
     },
     "output_type": "display_data"
    }
   ],
   "source": [
    "# Normalize (zero-center) and standardize (scale) output data\n",
    "scalerY = StandardScaler()\n",
    "Y = scalerY.fit_transform(Y)\n",
    "print(scalerY.mean_)\n",
    "\n",
    "print(f\" min = {Y.min(axis=0)}\")\n",
    "print(f\" mean = {Y.mean(axis=0)}\")\n",
    "print(f\" stdd = {Y.std(axis=0)}\")\n",
    "print(f\" max = {Y.max(axis=0)}\")\n",
    "\n",
    "plt.boxplot(Y)\n",
    "plt.show()"
   ]
  },
  {
   "cell_type": "code",
   "execution_count": 11,
   "metadata": {
    "colab": {
     "base_uri": "https://localhost:8080/"
    },
    "id": "qiochimAcdCW",
    "outputId": "738d4dcf-1826-4032-c28e-9b399019bcdb"
   },
   "outputs": [
    {
     "name": "stdout",
     "output_type": "stream",
     "text": [
      "(30224, 25)\n",
      "(30224, 2)\n",
      "(1591, 25)\n",
      "(1591, 2)\n"
     ]
    }
   ],
   "source": [
    "# Split data into train+val and test sets\n",
    "from sklearn.model_selection import train_test_split\n",
    "x_train, x_test, y_train, y_test = train_test_split(X, Y, test_size=0.05)\n",
    "\n",
    "print(x_train.shape)\n",
    "print(y_train.shape)\n",
    "print(x_test.shape)\n",
    "print(y_test.shape)"
   ]
  },
  {
   "cell_type": "code",
   "execution_count": 12,
   "metadata": {
    "colab": {
     "base_uri": "https://localhost:8080/",
     "height": 295
    },
    "id": "y-F4Jlorcl5t",
    "outputId": "fb28f9fd-4b59-41cb-a749-12c0a2a6b35f"
   },
   "outputs": [
    {
     "data": {
      "image/png": "[encoded data removed]",
      "text/plain": [
       "<Figure size 432x288 with 1 Axes>"
      ]
     },
     "metadata": {
      "needs_background": "light",
      "tags": []
     },
     "output_type": "display_data"
    }
   ],
   "source": [
    "# Plot y_test\n",
    "# Esta gráfica es para ver sólo si los sets de entrenamiento y test cubren las mismas\n",
    "# áreas (¿tienen la misma distribución?). No se espera que los puntos coincidan ya que\n",
    "# son dos sets distintos.\n",
    "plt.scatter(y_train[:, 0], y_train[:, 1], c='r', s=2, label='y_train')\n",
    "plt.scatter(y_test[:, 0], y_test[:, 1], c='b', s=2, label='y_test')\n",
    "\n",
    "plt.legend()\n",
    "plt.grid(True)\n",
    "plt.xlabel('PM2.5')\n",
    "plt.ylabel('NO2')\n",
    "plt.title('Outputs')\n",
    "plt.show()"
   ]
  },
  {
   "cell_type": "markdown",
   "metadata": {
    "id": "0e0JO1z1cq8l"
   },
   "source": [
    "# Part 3: Create DNN model and train it"
   ]
  },
  {
   "cell_type": "code",
   "execution_count": 13,
   "metadata": {
    "id": "n-jy263acl8d"
   },
   "outputs": [],
   "source": [
    "# tensorflow imports\n",
    "import tensorflow as tf\n",
    "from tensorflow.keras.models import Sequential\n",
    "from tensorflow.keras.layers import Input, Dense"
   ]
  },
  {
   "cell_type": "code",
   "execution_count": 14,
   "metadata": {
    "colab": {
     "base_uri": "https://localhost:8080/"
    },
    "id": "_TIXnxtNcl-l",
    "outputId": "417a02e0-87c1-4123-a9cb-a73a125066be"
   },
   "outputs": [
    {
     "name": "stdout",
     "output_type": "stream",
     "text": [
      "Model: \"sequential\"\n",
      "_________________________________________________________________\n",
      "Layer (type)                 Output Shape              Param #   \n",
      "=================================================================\n",
      "dense (Dense)                (None, 256)               6656      \n",
      "_________________________________________________________________\n",
      "dense_1 (Dense)              (None, 512)               131584    \n",
      "_________________________________________________________________\n",
      "dense_2 (Dense)              (None, 1024)              525312    \n",
      "_________________________________________________________________\n",
      "dense_3 (Dense)              (None, 512)               524800    \n",
      "_________________________________________________________________\n",
      "dense_4 (Dense)              (None, 256)               131328    \n",
      "_________________________________________________________________\n",
      "OUTPUT (Dense)               (None, 2)                 514       \n",
      "=================================================================\n",
      "Total params: 1,320,194\n",
      "Trainable params: 1,320,194\n",
      "Non-trainable params: 0\n",
      "_________________________________________________________________\n"
     ]
    }
   ],
   "source": [
    "# Create a Deep Network\n",
    "DNN = Sequential()\n",
    "DNN.add(Input(shape=X.shape[1:], name='INPUT'))\n",
    "\n",
    "DNN.add(Dense(units=256, activation='relu'))\n",
    "DNN.add(Dense(units=512, activation='relu'))\n",
    "DNN.add(Dense(units=1024, activation='relu'))\n",
    "DNN.add(Dense(units=512, activation='relu'))\n",
    "DNN.add(Dense(units=256, activation='relu'))\n",
    "\n",
    "DNN.add(Dense(units=Y.shape[1], activation='linear', name='OUTPUT'))\n",
    "\n",
    "DNN.summary()"
   ]
  },
  {
   "cell_type": "code",
   "execution_count": 15,
   "metadata": {
    "id": "c3hRn_FLcdG-"
   },
   "outputs": [],
   "source": [
    "# Define training parameters\n",
    "#from tensorflow.keras.optimizers import SGD\n",
    "#sgd = SGD(learning_rate=0.02, momentum=0.6)\n",
    "#DNN.compile(optimizer=sgd, loss='mse')\n",
    "DNN.compile(optimizer='adam', loss='mse')"
   ]
  },
  {
   "cell_type": "code",
   "execution_count": null,
   "metadata": {
    "id": "6o2zwnu0c1Sw"
   },
   "outputs": [],
   "source": [
    "# Train model\n",
    "history = DNN.fit(x=x_train, y=y_train, batch_size=32, epochs=200, verbose=1, validation_split=0.1, shuffle=True)"
   ]
  },
  {
   "cell_type": "code",
   "execution_count": 17,
   "metadata": {
    "colab": {
     "base_uri": "https://localhost:8080/",
     "height": 334
    },
    "id": "wuRvPwiOc1YB",
    "outputId": "1ad0f02c-f64b-403c-c672-b7ca69dfc262"
   },
   "outputs": [
    {
     "data": {
      "image/png": "[encoded data removed]",
      "text/plain": [
       "<Figure size 864x360 with 1 Axes>"
      ]
     },
     "metadata": {
      "needs_background": "light",
      "tags": []
     },
     "output_type": "display_data"
    }
   ],
   "source": [
    "# Plot loss\n",
    "plt.figure(figsize=(12, 5))\n",
    "plt.plot(DNN.history.history['loss'], label='Training', linewidth=2)\n",
    "plt.plot(DNN.history.history['val_loss'], label='Validation', linewidth=2)\n",
    "plt.legend()\n",
    "plt.xlabel('Epoch')\n",
    "plt.ylabel('Loss')\n",
    "plt.grid(True)\n",
    "plt.show()"
   ]
  },
  {
   "cell_type": "code",
   "execution_count": 18,
   "metadata": {
    "colab": {
     "base_uri": "https://localhost:8080/"
    },
    "id": "35Gj7lNWc1ay",
    "outputId": "09c6ea77-0650-43a5-c080-74dce69615b2"
   },
   "outputs": [
    {
     "name": "stdout",
     "output_type": "stream",
     "text": [
      "Generalization loss: 0.9494%\n"
     ]
    }
   ],
   "source": [
    "# Generalization metric (opcional)\n",
    "min_loss = np.min([DNN.history.history['loss'][-1], DNN.history.history['val_loss'][-1]])\n",
    "max_loss = np.max([DNN.history.history['loss'][-1], DNN.history.history['val_loss'][-1]])\n",
    "general_loss = (max_loss - min_loss) / max_loss\n",
    "print(f\"Generalization loss: {general_loss:6.4f}%\")"
   ]
  },
  {
   "cell_type": "code",
   "execution_count": 19,
   "metadata": {
    "colab": {
     "base_uri": "https://localhost:8080/"
    },
    "id": "_LKaEnv2c-lX",
    "outputId": "f5f56532-8859-4453-cf80-9ae85770b2ec"
   },
   "outputs": [
    {
     "name": "stdout",
     "output_type": "stream",
     "text": [
      "Test loss: 0.22918909788131714\n"
     ]
    }
   ],
   "source": [
    "# Compute test loss\n",
    "loss_test = DNN.evaluate(x=x_test, y=y_test, verbose=False)\n",
    "print(\"Test loss:\", loss_test)"
   ]
  },
  {
   "cell_type": "code",
   "execution_count": 20,
   "metadata": {
    "colab": {
     "base_uri": "https://localhost:8080/"
    },
    "id": "3flJfjxbc-oq",
    "outputId": "b01c55e7-c54a-4830-da42-f3c94e8a2913"
   },
   "outputs": [
    {
     "name": "stdout",
     "output_type": "stream",
     "text": [
      "(1591, 2)\n"
     ]
    }
   ],
   "source": [
    "# Predict on test set\n",
    "y_test_hat = DNN.predict(x=x_test)\n",
    "print(y_test_hat.shape)"
   ]
  },
  {
   "cell_type": "code",
   "execution_count": 21,
   "metadata": {
    "colab": {
     "base_uri": "https://localhost:8080/",
     "height": 295
    },
    "id": "47KkwmYSc-rB",
    "outputId": "a7ad7bcd-6465-446a-e5bb-563cd56dc708"
   },
   "outputs": [
    {
     "data": {
      "image/png": "[encoded data removed]",
      "text/plain": [
       "<Figure size 432x288 with 1 Axes>"
      ]
     },
     "metadata": {
      "needs_background": "light",
      "tags": []
     },
     "output_type": "display_data"
    }
   ],
   "source": [
    "# Plot y_test_hat\n",
    "indx = np.random.permutation(len(y_test))[:500]\n",
    "plt.scatter(y_test[indx, 0], y_test[indx, 1], c='b', label='y')\n",
    "plt.scatter(y_test_hat[indx, 0], y_test_hat[indx, 1], c='r', marker='+', label='y_h')\n",
    "\n",
    "plt.legend()\n",
    "plt.grid(True)\n",
    "plt.xlabel('PM2.5')\n",
    "plt.ylabel('NO2')\n",
    "plt.title('Test set and its predictions')\n",
    "plt.show()"
   ]
  },
  {
   "cell_type": "markdown",
   "metadata": {
    "id": "3PmFjIL3niun"
   },
   "source": [
    "1) Identificar cuáles de las variables dependientes son predecibles y cuáles no. <br>  \n",
    "\n",
    "Sugerencia: \n",
    "+ Los dataframes de pandas tienen la función corr(), la cual calcula la correlación entre variables."
   ]
  },
  {
   "cell_type": "code",
   "execution_count": null,
   "metadata": {
    "id": "VPZ2n7uoT8GI"
   },
   "outputs": [],
   "source": [
    "#df"
   ]
  },
  {
   "cell_type": "code",
   "execution_count": 95,
   "metadata": {
    "colab": {
     "base_uri": "https://localhost:8080/"
    },
    "id": "501BSfIMUHgN",
    "outputId": "f9186de1-3c9b-4333-888f-a68dad820382"
   },
   "outputs": [
    {
     "name": "stdout",
     "output_type": "stream",
     "text": [
      "Variable predicted values with shape (31815, 6)\n",
      "== categories: [array(['E', 'ENE', 'ESE', 'N', 'NE', 'NNE', 'NNW', 'NW', 'S', 'SE', 'SSE',\n",
      "       'SSW', 'SW', 'W', 'WNW', 'WSW'], dtype=object)] ==\n",
      "Features X values with shape (31815, 21)\n"
     ]
    }
   ],
   "source": [
    "# Air particles as Yi variables\n",
    "Y = df[['PM2.5', 'PM10', 'SO2', 'NO2', 'CO', 'O3']]\n",
    "print(f\"Variable predicted values with shape {Y.shape}\")\n",
    "\n",
    "# Climate indicators as Xi variables\n",
    "features = df[['TEMP', 'PRES', 'DEWP', 'RAIN', 'WSPM']]\n",
    "WD = winddir_to_categorical(df[['wd']])  #One Hot encoding for wd variable\n",
    "X= np.concatenate((features, WD), axis=1)\n",
    "names = ['TEMP','PRES','DEWP','RAIN','WSPM','NNW','N','NW','NNE','ENE','E','NE','W','SSW','WSW','SE','WNW','SSE','ESE','S','SW']\n",
    "df_x = pd.DataFrame(X)\n",
    "df_x.columns = [names]\n",
    "print(f\"Features X values with shape {df_x .shape}\")"
   ]
  },
  {
   "cell_type": "code",
   "execution_count": 96,
   "metadata": {
    "id": "u-BJKunHGRdW"
   },
   "outputs": [],
   "source": [
    "def correlation(Y,features,threshold, var='x'):\n",
    "    \"\"\"Function to get correlation between independent variables and dependent variables to \n",
    "    get the most predictible dependent variables or independent variables i.e those with highest correlation\n",
    "    \"\"\"\n",
    "    # Get columns names for Yi's\n",
    "    names_x = list(features.columns)\n",
    "    # Get columns names for Yi's\n",
    "    names_y = list(Y.columns)\n",
    "\n",
    "    #Concatenate to single df\n",
    "    df_c = pd.concat([Y, features], axis=1)\n",
    "\n",
    "    #Get matrix correlation\n",
    "    corr_matrix = df_c.corr().abs()\n",
    "    upper = corr_matrix.where(np.triu(np.ones(corr_matrix.shape), k=1).astype(np.bool))\n",
    "\n",
    "    if var == 'x':\n",
    "      x_df = upper [names_x]\n",
    "      vars = [column for column in x_df.columns if any(x_df[column] > threshold)]\n",
    "\n",
    "    else:\n",
    "      y_df = upper [names_y]\n",
    "      vars = [column for column in y_df.columns if any(y_df[column] > threshold)]\n",
    "\n",
    "    return vars"
   ]
  },
  {
   "cell_type": "code",
   "execution_count": 97,
   "metadata": {
    "colab": {
     "base_uri": "https://localhost:8080/"
    },
    "id": "UaI16Q66GPKN",
    "outputId": "d43adca4-0625-4a80-c203-c88980e8bf14"
   },
   "outputs": [
    {
     "data": {
      "text/plain": [
       "['PM10', 'NO2', 'CO']"
      ]
     },
     "execution_count": 97,
     "metadata": {
      "tags": []
     },
     "output_type": "execute_result"
    }
   ],
   "source": [
    "predictable_vars = correlation(Y, df_x,.65, var='y')\n",
    "predictable_vars"
   ]
  },
  {
   "cell_type": "markdown",
   "metadata": {
    "id": "vSHlwA8DvugO"
   },
   "source": [
    "2) Identificar cuáles de las variables independientes son relevantes para el pronóstico de las variables dependientes identificadas previamente.<br> "
   ]
  },
  {
   "cell_type": "code",
   "execution_count": 98,
   "metadata": {
    "colab": {
     "base_uri": "https://localhost:8080/"
    },
    "id": "kBpcIJLQIYE4",
    "outputId": "daccb87a-97b6-4d26-e047-e2da84af2bf9"
   },
   "outputs": [
    {
     "data": {
      "text/plain": [
       "[('PRES',), ('DEWP',), ('WSPM',)]"
      ]
     },
     "execution_count": 98,
     "metadata": {
      "tags": []
     },
     "output_type": "execute_result"
    }
   ],
   "source": [
    "y_selected = df[['PM10', 'NO2', 'CO']]\n",
    "\n",
    "x_vars = correlation(y_selected, df_x,.30, var='x')\n",
    "x_vars"
   ]
  },
  {
   "cell_type": "code",
   "execution_count": 99,
   "metadata": {
    "id": "74Q01wCvFV2i"
   },
   "outputs": [],
   "source": [
    "# Scaling variables\n",
    "scalerX = StandardScaler()\n",
    "scalerY = StandardScaler()\n",
    "X_features = pd.DataFrame(scalerX.fit_transform(features))\n",
    "names_xscal = ['TEMP', 'PRES', 'DEWP', 'RAIN', 'WSPM']\n",
    "X_features.columns = [names_xscal]\n",
    "\n",
    "Y_scal = pd.DataFrame(scalerY.fit_transform(Y))\n",
    "names_yscal = ['PM2.5', 'PM10', 'SO2', 'NO2', 'CO', 'O3']\n",
    "Y_scal.columns = [names_yscal]\n",
    "X = np.concatenate((X_features, WD), axis=1)\n",
    "\n",
    "names = ['TEMP','PRES','DEWP','RAIN','WSPM','NNW','N','NW','NNE','ENE','E','NE','W','SSW','WSW','SE','WNW','SSE','ESE','S','SW']\n",
    "df_x_scal = pd.DataFrame(X)\n",
    "df_x_scal.columns = [names]"
   ]
  },
  {
   "cell_type": "code",
   "execution_count": 100,
   "metadata": {
    "colab": {
     "base_uri": "https://localhost:8080/"
    },
    "id": "NfisxFLz3kH7",
    "outputId": "9a4eae52-97de-4179-dff0-f581d2eabe20"
   },
   "outputs": [
    {
     "data": {
      "text/plain": [
       "[('PM10',), ('NO2',), ('CO',)]"
      ]
     },
     "execution_count": 100,
     "metadata": {
      "tags": []
     },
     "output_type": "execute_result"
    }
   ],
   "source": [
    "predictable_vars = correlation(Y_scal, df_x_scal,.65, var='y')\n",
    "predictable_vars"
   ]
  },
  {
   "cell_type": "code",
   "execution_count": 101,
   "metadata": {
    "colab": {
     "base_uri": "https://localhost:8080/"
    },
    "id": "YXXhxwOv3ACX",
    "outputId": "8e9e64dd-842c-4893-b568-c2c503b9399b"
   },
   "outputs": [
    {
     "data": {
      "text/plain": [
       "[('TEMP',), ('PRES',), ('DEWP',), ('WSPM',)]"
      ]
     },
     "execution_count": 101,
     "metadata": {
      "tags": []
     },
     "output_type": "execute_result"
    }
   ],
   "source": [
    "y_selected = df[['PM10', 'NO2', 'CO']]\n",
    "y_sel_scal = pd.DataFrame(scalerY.fit_transform(y_selected))\n",
    "names_y_scal = ['PM10', 'NO2', 'CO']\n",
    "y_sel_scal.columns = [names_y_scal]\n",
    "\n",
    "x_vars = correlation(y_sel_scal, df_x_scal,.30, var='x')\n",
    "x_vars"
   ]
  },
  {
   "cell_type": "markdown",
   "metadata": {
    "id": "89Xv2iniJkwc"
   },
   "source": [
    "3) Para mantener el problema como uno de regresión multivariada, selecciona al menos 3 de las variables independientes para definir los vectores de entrada, y mantén al menos 2 variables dependientes para definir los vectores de salida.<br> \n",
    "\n",
    "R. Con el análisis de las correlaciones se decidió tomar como inputs variables TEMP, PRES, DEWP y WSPM, por otra parte como outputs elegimos PM10, NO y CO.\n",
    "\n",
    "4) Con las variables dependientes e independientes identificadas, úsalas para construir un modelo de regresión tipo MLP. Inicia con un optimizador fijo, y modifica primero sólo la arquitectura para obtener el mejor resultado posible. <br>\n",
    "\n",
    "Retos:\n",
    "+ Prueba con varias arquitecturas de entre 2 y 6 capas.\n",
    "+ Prueba con varios números de neuronas en cada capa, entre 32 y 2048.\n",
    "+ Prueba diferentes tamaños de lote. Mantén fijas 100 épocas."
   ]
  },
  {
   "cell_type": "code",
   "execution_count": 110,
   "metadata": {
    "colab": {
     "base_uri": "https://localhost:8080/"
    },
    "id": "Spj_XiNuG0kk",
    "outputId": "a25786fa-b8f5-46ad-b5f9-c8bbab8aad92"
   },
   "outputs": [
    {
     "name": "stdout",
     "output_type": "stream",
     "text": [
      "       TEMP      PRES      DEWP      WSPM\n",
      "0 -1.273269  1.083270 -1.612648  2.225113\n",
      "1 -1.308453  1.102615 -1.568749  2.474236\n",
      "2 -1.308453  1.131632 -1.568749  3.221607\n",
      "3 -1.334841  1.228356 -1.656547  1.145577\n",
      "       PM10       NO2        CO\n",
      "0 -1.121688 -1.402461 -0.781974\n",
      "1 -1.079006 -1.402461 -0.781974\n",
      "2 -1.089676 -1.321513 -0.781974\n",
      "3 -1.100347 -1.294530 -0.781974\n"
     ]
    }
   ],
   "source": [
    "# Moodeling part will be implemented with scaled variables to get better performance\n",
    "x_model = df_x_scal[x_vars]\n",
    "print(x_model.head(4))\n",
    "y_model = y_sel_scal\n",
    "print(y_model.head(4))"
   ]
  },
  {
   "cell_type": "code",
   "execution_count": 111,
   "metadata": {
    "colab": {
     "base_uri": "https://localhost:8080/"
    },
    "id": "4qUsE0jOG0sX",
    "outputId": "74e6646b-9d27-45da-d78a-d59b27a6b999"
   },
   "outputs": [
    {
     "name": "stdout",
     "output_type": "stream",
     "text": [
      "(30224, 4)\n",
      "(30224, 3)\n",
      "(1591, 4)\n",
      "(1591, 3)\n"
     ]
    }
   ],
   "source": [
    "# Set train and test\n",
    "x_train, x_test, y_train, y_test = train_test_split(x_model, y_model, test_size=0.05)\n",
    "print(x_train.shape)\n",
    "print(y_train.shape)\n",
    "print(x_test.shape)\n",
    "print(y_test.shape)"
   ]
  },
  {
   "cell_type": "code",
   "execution_count": 114,
   "metadata": {
    "id": "4m02n7_KHwNL"
   },
   "outputs": [],
   "source": [
    "def get_model(n):\n",
    "  \"\"\"Function to get the model arquitecture to try the same model but with different arquitecture\n",
    "    \"\"\"\n",
    "  models = n\n",
    "  for model in range(models):\n",
    "    if model == 1 or model == 2:\n",
    "      #Model 1 or 2  \n",
    "      DNN= Sequential()\n",
    "      DNN.add(Input(shape=x_train.shape[1:], name='INPUT'))\n",
    "\n",
    "      DNN.add(Dense(units=256, activation='relu'))\n",
    "      DNN.add(Dense(units=512, activation='relu'))\n",
    "      DNN.add(Dense(units=512, activation='relu'))\n",
    "      DNN.add(Dense(units=256, activation='relu'))\n",
    "\n",
    "      DNN.add(Dense(units=y_train.shape[1], activation='linear', name='OUTPUT'))\n",
    "\n",
    "    elif model == 3:\n",
    "      #Model 3\n",
    "      DNN= Sequential()\n",
    "      DNN.add(Input(shape=x_train.shape[1:], name='INPUT'))\n",
    "\n",
    "      DNN.add(Dense(units=32, activation='relu'))\n",
    "      DNN.add(Dense(units=2048, activation='relu'))\n",
    "      DNN.add(Dense(units=1024, activation='relu'))\n",
    "\n",
    "      DNN.add(Dense(units=y_train.shape[1], activation='linear', name='OUTPUT'))\n",
    "\n",
    "    elif model == 4:\n",
    "      #Model 4\n",
    "      DNN= Sequential()\n",
    "      DNN.add(Input(shape=x_train.shape[1:], name='INPUT'))\n",
    "\n",
    "      DNN.add(Dense(units=32, activation='relu'))\n",
    "      DNN.add(Dense(units=2048, activation='relu'))\n",
    "      DNN.add(Dense(units=1024, activation='relu'))\n",
    "      DNN.add(Dense(units=32, activation='relu'))\n",
    "\n",
    "      DNN.add(Dense(units=y_train.shape[1], activation='linear', name='OUTPUT'))\n",
    "\n",
    "    elif model == 5:\n",
    "\n",
    "      #Model 5\n",
    "      DNN= Sequential()\n",
    "      DNN.add(Input(shape=x_train.shape[1:], name='INPUT'))\n",
    "\n",
    "      DNN.add(Dense(units=32, activation='relu'))\n",
    "      DNN.add(Dense(units=256, activation='relu'))\n",
    "\n",
    "      DNN.add(Dense(units=y_train.shape[1], activation='linear', name='OUTPUT'))\n",
    "\n",
    "    else:\n",
    "      #Model 6\n",
    "      DNN= Sequential()\n",
    "      DNN.add(Input(shape=x_train.shape[1:], name='INPUT'))\n",
    "\n",
    "      DNN.add(Dense(units=1024, activation='relu'))\n",
    "      DNN.add(Dense(units=32, activation='relu'))\n",
    "      DNN.add(Dense(units=2048, activation='relu'))\n",
    "      DNN.add(Dense(units=1024, activation='relu'))\n",
    "      DNN.add(Dense(units=512, activation='relu'))\n",
    "\n",
    "      DNN.add(Dense(units=y_train.shape[1], activation='linear', name='OUTPUT'))\n",
    "\n",
    "    DNN.compile(optimizer='adam', loss='mse')\n",
    "\n",
    "    return DNN"
   ]
  },
  {
   "cell_type": "code",
   "execution_count": 115,
   "metadata": {
    "id": "oHWrFiKG9MTY"
   },
   "outputs": [],
   "source": [
    "def eval_model(y_train, x_train):\n",
    "\n",
    "  bs = [32, 16, 8, 32, 16, 32]\n",
    "  models = [1,2,3,4,5,6]\n",
    "  loss_train = []\n",
    "  loss_validation = []\n",
    "  loss_test = []\n",
    "  model = []\n",
    "\n",
    "  for md,batch_s in zip(models,bs):\n",
    "    model.append(md)\n",
    "    #Train model\n",
    "    DNN = get_model(md)\n",
    "    history = DNN.fit(x=x_train, y=y_train, batch_size=batch_s, epochs=100, verbose=1, validation_split=0.1, shuffle=True)\n",
    "    # Compute test loss \n",
    "    loss_train.append(DNN.history.history['loss'][-1])\n",
    "    loss_validation.append(DNN.history.history['val_loss'][-1])\n",
    "    loss_test.append(DNN.evaluate(x=x_test, y=y_test, verbose=False))\n",
    "\n",
    "    # Reset session\n",
    "    tf.keras.backend.clear_session()\n",
    "\n",
    "  table={'model':model, 'loss_train':loss_train,'loss_validation':loss_validation,'loss_test':loss_test}       \n",
    "  results=pd.DataFrame(table)\n",
    "    \n",
    "  return results"
   ]
  },
  {
   "cell_type": "code",
   "execution_count": null,
   "metadata": {
    "id": "JmHiXHCOO6vY"
   },
   "outputs": [],
   "source": [
    "#Prueba para guardar la corrida como Pickle\n",
    "evaluations = eval_model(y_train, x_train)"
   ]
  },
  {
   "cell_type": "code",
   "execution_count": 117,
   "metadata": {
    "id": "2UTyjPjI9MWM"
   },
   "outputs": [],
   "source": [
    "import pickle\n",
    "\n",
    "filename = 'models.pkl'\n",
    "pickle.dump(evaluations, open(filename, 'wb'))\n",
    "#pd.read_pickle('models.pkl')"
   ]
  },
  {
   "cell_type": "code",
   "execution_count": 118,
   "metadata": {
    "colab": {
     "base_uri": "https://localhost:8080/",
     "height": 228
    },
    "id": "kw-8GN8XxcxY",
    "outputId": "6e5edd28-f22c-4c44-dcdc-20f1996be4e0"
   },
   "outputs": [
    {
     "data": {
      "text/html": [
       "<div>\n",
       "<style scoped>\n",
       "    .dataframe tbody tr th:only-of-type {\n",
       "        vertical-align: middle;\n",
       "    }\n",
       "\n",
       "    .dataframe tbody tr th {\n",
       "        vertical-align: top;\n",
       "    }\n",
       "\n",
       "    .dataframe thead th {\n",
       "        text-align: right;\n",
       "    }\n",
       "</style>\n",
       "<table border=\"1\" class=\"dataframe\">\n",
       "  <thead>\n",
       "    <tr style=\"text-align: right;\">\n",
       "      <th></th>\n",
       "      <th>model</th>\n",
       "      <th>loss_train</th>\n",
       "      <th>loss_validation</th>\n",
       "      <th>loss_test</th>\n",
       "    </tr>\n",
       "  </thead>\n",
       "  <tbody>\n",
       "    <tr>\n",
       "      <th>0</th>\n",
       "      <td>1</td>\n",
       "      <td>0.432338</td>\n",
       "      <td>0.588341</td>\n",
       "      <td>0.619752</td>\n",
       "    </tr>\n",
       "    <tr>\n",
       "      <th>1</th>\n",
       "      <td>2</td>\n",
       "      <td>0.491213</td>\n",
       "      <td>0.585775</td>\n",
       "      <td>0.595029</td>\n",
       "    </tr>\n",
       "    <tr>\n",
       "      <th>2</th>\n",
       "      <td>3</td>\n",
       "      <td>0.555434</td>\n",
       "      <td>0.568445</td>\n",
       "      <td>0.615091</td>\n",
       "    </tr>\n",
       "    <tr>\n",
       "      <th>3</th>\n",
       "      <td>4</td>\n",
       "      <td>0.453581</td>\n",
       "      <td>0.600387</td>\n",
       "      <td>0.609147</td>\n",
       "    </tr>\n",
       "    <tr>\n",
       "      <th>4</th>\n",
       "      <td>5</td>\n",
       "      <td>0.479229</td>\n",
       "      <td>0.592444</td>\n",
       "      <td>0.624455</td>\n",
       "    </tr>\n",
       "    <tr>\n",
       "      <th>5</th>\n",
       "      <td>6</td>\n",
       "      <td>0.436567</td>\n",
       "      <td>0.592396</td>\n",
       "      <td>0.640871</td>\n",
       "    </tr>\n",
       "  </tbody>\n",
       "</table>\n",
       "</div>"
      ],
      "text/plain": [
       "   model  loss_train  loss_validation  loss_test\n",
       "0      1    0.432338         0.588341   0.619752\n",
       "1      2    0.491213         0.585775   0.595029\n",
       "2      3    0.555434         0.568445   0.615091\n",
       "3      4    0.453581         0.600387   0.609147\n",
       "4      5    0.479229         0.592444   0.624455\n",
       "5      6    0.436567         0.592396   0.640871"
      ]
     },
     "execution_count": 118,
     "metadata": {
      "tags": []
     },
     "output_type": "execute_result"
    }
   ],
   "source": [
    "pd.read_pickle('models.pkl')"
   ]
  },
  {
   "cell_type": "markdown",
   "metadata": {
    "id": "daTAVba7ViP0"
   },
   "source": [
    "5) Una vez obtenido el mejor resultado posible con el optimizador fijo y la arquitectura seleccionada, evalúa cuál es el impacto de variar el optimizador manteniendo fija la arquitectura.\n",
    "\n",
    "+ Prueba al menos 6 optimizadores. Revisa la documentación de tensorflow y keras para ver detalles de cómo utilizarlos."
   ]
  },
  {
   "cell_type": "code",
   "execution_count": 126,
   "metadata": {
    "id": "y25z_vRfQEKf"
   },
   "outputs": [],
   "source": [
    "def get_model_optim(n):\n",
    "  \"\"\"Function to validate the optimizer of the net\n",
    "    \"\"\" \n",
    "  optimizador = n\n",
    "  for optim in (optimizador):\n",
    "    if optim == 1 :\n",
    "      #ADAM\n",
    "      DNN= Sequential()\n",
    "      DNN.add(Input(shape=x_train.shape[1:], name='INPUT'))\n",
    "\n",
    "      DNN.add(Dense(units=256, activation='relu'))\n",
    "      DNN.add(Dense(units=512, activation='relu'))\n",
    "      DNN.add(Dense(units=512, activation='relu'))\n",
    "      DNN.add(Dense(units=256, activation='relu'))\n",
    "\n",
    "      DNN.add(Dense(units=y_train.shape[1], activation='linear', name='OUTPUT'))\n",
    "      DNN.compile(optimizer='adam', loss='mse')\n",
    "\n",
    "    elif optim == 2:\n",
    "      #ADAMAX\n",
    "      DNN= Sequential()\n",
    "      DNN.add(Input(shape=x_train.shape[1:], name='INPUT'))\n",
    "\n",
    "      DNN.add(Dense(units=256, activation='relu'))\n",
    "      DNN.add(Dense(units=512, activation='relu'))\n",
    "      DNN.add(Dense(units=512, activation='relu'))\n",
    "      DNN.add(Dense(units=256, activation='relu'))\n",
    "\n",
    "      DNN.add(Dense(units=y_train.shape[1], activation='linear', name='OUTPUT'))\n",
    "      DNN.compile(optimizer='adamax', loss='mse')\n",
    "\n",
    "    elif optim == 3:\n",
    "      #RMS\n",
    "      DNN= Sequential()\n",
    "      DNN.add(Input(shape=x_train.shape[1:], name='INPUT'))\n",
    "\n",
    "      DNN.add(Dense(units=256, activation='relu'))\n",
    "      DNN.add(Dense(units=512, activation='relu'))\n",
    "      DNN.add(Dense(units=512, activation='relu'))\n",
    "      DNN.add(Dense(units=256, activation='relu'))\n",
    "\n",
    "      DNN.add(Dense(units=y_train.shape[1], activation='linear', name='OUTPUT'))\n",
    "      DNN.compile(optimizer='rmsprop', loss='mse')\n",
    "\n",
    "    elif optim == 4:\n",
    "\n",
    "      #ADAGRAD\n",
    "      DNN= Sequential()\n",
    "      DNN.add(Input(shape=x_train.shape[1:], name='INPUT'))\n",
    "\n",
    "      DNN.add(Dense(units=256, activation='relu'))\n",
    "      DNN.add(Dense(units=512, activation='relu'))\n",
    "      DNN.add(Dense(units=512, activation='relu'))\n",
    "      DNN.add(Dense(units=256, activation='relu'))\n",
    "\n",
    "      DNN.add(Dense(units=y_train.shape[1], activation='linear', name='OUTPUT'))\n",
    "      DNN.compile(optimizer='adagrad', loss='mse')\n",
    "\n",
    "    elif optim == 5:\n",
    "      #ADA DELTA\n",
    "      DNN= Sequential()\n",
    "      DNN.add(Input(shape=x_train.shape[1:], name='INPUT'))\n",
    "\n",
    "      DNN.add(Dense(units=256, activation='relu'))\n",
    "      DNN.add(Dense(units=512, activation='relu'))\n",
    "      DNN.add(Dense(units=512, activation='relu'))\n",
    "      DNN.add(Dense(units=256, activation='relu'))\n",
    "\n",
    "      DNN.add(Dense(units=y_train.shape[1], activation='linear', name='OUTPUT'))\n",
    "      DNN.compile(optimizer='adadelta', loss='mse')\n",
    "\n",
    "    else:\n",
    "      #SGD\n",
    "      DNN= Sequential()\n",
    "      DNN.add(Input(shape=x_train.shape[1:], name='INPUT'))\n",
    "\n",
    "      DNN.add(Dense(units=256, activation='relu'))\n",
    "      DNN.add(Dense(units=512, activation='relu'))\n",
    "      DNN.add(Dense(units=512, activation='relu'))\n",
    "      DNN.add(Dense(units=256, activation='relu'))\n",
    "\n",
    "      DNN.add(Dense(units=y_train.shape[1], activation='linear', name='OUTPUT'))\n",
    "      DNN.compile(optimizer='sgd', loss='mse')\n",
    "\n",
    "    return DNN"
   ]
  },
  {
   "cell_type": "code",
   "execution_count": 127,
   "metadata": {
    "id": "1ACjG-bcTti4"
   },
   "outputs": [],
   "source": [
    "def eval_optimizer(y_train, x_train):\n",
    "\n",
    "  models = [1,2,3,4,5,6]\n",
    "  loss_train = []\n",
    "  loss_validation = []\n",
    "  loss_test = []\n",
    "  model = []\n",
    "\n",
    "  for md in zip(models):\n",
    "    model.append(md)\n",
    "    #Train model\n",
    "    DNN = get_model_optim(md)\n",
    "    history = DNN.fit(x=x_train, y=y_train, batch_size=16, epochs=100, verbose=1, validation_split=0.1, shuffle=True)\n",
    "    # Compute test loss \n",
    "    loss_train.append(DNN.history.history['loss'][-1])\n",
    "    loss_validation.append(DNN.history.history['val_loss'][-1])\n",
    "    loss_test.append(DNN.evaluate(x=x_test, y=y_test, verbose=False))\n",
    "\n",
    "    # Reset session\n",
    "    tf.keras.backend.clear_session()\n",
    "\n",
    "  table={'model':model, 'loss_train':loss_train,'loss_validation':loss_validation,'loss_test':loss_test}       \n",
    "  results=pd.DataFrame(table)\n",
    "    \n",
    "  return results"
   ]
  },
  {
   "cell_type": "code",
   "execution_count": null,
   "metadata": {
    "id": "Uuw8rnf0T_M1"
   },
   "outputs": [],
   "source": [
    "eval_optim = eval_optimizer(y_train, x_train)"
   ]
  },
  {
   "cell_type": "code",
   "execution_count": 130,
   "metadata": {
    "id": "JIxiv-k4T_ZF"
   },
   "outputs": [],
   "source": [
    "filename = 'models_optim.pkl'\n",
    "pickle.dump(eval_optim, open(filename, 'wb'))\n",
    "#pd.read_pickle('models_optim.pkl')"
   ]
  },
  {
   "cell_type": "code",
   "execution_count": null,
   "metadata": {
    "id": "25MhOBEnT_b1"
   },
   "outputs": [],
   "source": [
    "# Modelo ganador \n",
    "DNN= Sequential()\n",
    "DNN.add(Input(shape=x_train.shape[1:], name='INPUT'))\n",
    "\n",
    "DNN.add(Dense(units=256, activation='relu'))\n",
    "DNN.add(Dense(units=512, activation='relu'))\n",
    "DNN.add(Dense(units=512, activation='relu'))\n",
    "DNN.add(Dense(units=256, activation='relu'))\n",
    "\n",
    "DNN.add(Dense(units=y_train.shape[1], activation='linear', name='OUTPUT'))\n",
    "DNN.compile(optimizer='adamax', loss='mse')\n",
    "\n",
    "# Train model\n",
    "history = DNN.fit(x=x_train, y=y_train, batch_size=16, epochs=100, verbose=1, validation_split=0.1, shuffle=True)"
   ]
  },
  {
   "cell_type": "markdown",
   "metadata": {
    "id": "9qVLSUmXkqow"
   },
   "source": [
    "# Reporte\n",
    "\n",
    "1. *Cuáles variables de entrada y salida se seleccionaron para el ejercicio. Justifica su selección.* <br>\n",
    "\n",
    "R. Se obtuvó la correlación entre las variables independientes y dependientes para despuest obtener aquellas variables dependientes que tuvieran mayor correlación y esto nos ayuda a identificar que son las más predecibles porque tiene una correlación alta (se puso como *threshold .95*) en valor absoluto con las caracterísiticas elegidas. Se obtuvo como variables **Y = ['PM10', 'NO2', 'CO']**. De igual manera se hizo lo mismo para la selección de las variables X, una vez elegidas las Y'is y las variables X'is que se quedaron para modelar con un *threshold del .30* fueron **X= ['PRES','DEWP','RAIN','WSPM']** <br>\n",
    "\n",
    "Sin embargo, cuando escalamos los datos si cambiaron las variables a **X= ['TEMP','PRES','DEWP','RAIN','WSPM']** y utilizando el mismo *threshold*, es decir nos aumentó una variable input y fue la temperatura.\n",
    "\n",
    "2. *Si se utilizó algún tipo de escalamiento o normalización de los datos de entrada y/o de salida.*<br>\n",
    "\n",
    "R. Si se utilizó el escalamiento de *sklearn* para que se estandarizaran los datos (quita media y divide entre desviación estandar), decidimos escalara todas las variables excepto el *feature* WD que se convirtio en *One hot encoding* porque no era necesaria ahí la estandarización. En las demás variables (inputs y outputs) si lo hicimos para eliminar el ruido que pudieran agregar al modelo. Se observó que al hacer la seleccion de variables hubo un cambio en los inputs utilizando el mismo *threshold* únicamente con la variante de datos no estandarizados vs datos estandarizados.\n",
    "\n",
    "3. *Una tabla con el desempeño de, al menos, 5 arquitecturas evaluadas usando el optimizador fijo.*<br>\n",
    "\n",
    "\n"
   ]
  },
  {
   "cell_type": "code",
   "execution_count": 119,
   "metadata": {
    "colab": {
     "base_uri": "https://localhost:8080/",
     "height": 228
    },
    "id": "9L7EkSC80ap8",
    "outputId": "e86a1c0c-7b2a-492a-b895-b37aa643ca90"
   },
   "outputs": [
    {
     "data": {
      "text/html": [
       "<div>\n",
       "<style scoped>\n",
       "    .dataframe tbody tr th:only-of-type {\n",
       "        vertical-align: middle;\n",
       "    }\n",
       "\n",
       "    .dataframe tbody tr th {\n",
       "        vertical-align: top;\n",
       "    }\n",
       "\n",
       "    .dataframe thead th {\n",
       "        text-align: right;\n",
       "    }\n",
       "</style>\n",
       "<table border=\"1\" class=\"dataframe\">\n",
       "  <thead>\n",
       "    <tr style=\"text-align: right;\">\n",
       "      <th></th>\n",
       "      <th>model</th>\n",
       "      <th>loss_train</th>\n",
       "      <th>loss_validation</th>\n",
       "      <th>loss_test</th>\n",
       "    </tr>\n",
       "  </thead>\n",
       "  <tbody>\n",
       "    <tr>\n",
       "      <th>0</th>\n",
       "      <td>1</td>\n",
       "      <td>0.432338</td>\n",
       "      <td>0.588341</td>\n",
       "      <td>0.619752</td>\n",
       "    </tr>\n",
       "    <tr>\n",
       "      <th>1</th>\n",
       "      <td>2</td>\n",
       "      <td>0.491213</td>\n",
       "      <td>0.585775</td>\n",
       "      <td>0.595029</td>\n",
       "    </tr>\n",
       "    <tr>\n",
       "      <th>2</th>\n",
       "      <td>3</td>\n",
       "      <td>0.555434</td>\n",
       "      <td>0.568445</td>\n",
       "      <td>0.615091</td>\n",
       "    </tr>\n",
       "    <tr>\n",
       "      <th>3</th>\n",
       "      <td>4</td>\n",
       "      <td>0.453581</td>\n",
       "      <td>0.600387</td>\n",
       "      <td>0.609147</td>\n",
       "    </tr>\n",
       "    <tr>\n",
       "      <th>4</th>\n",
       "      <td>5</td>\n",
       "      <td>0.479229</td>\n",
       "      <td>0.592444</td>\n",
       "      <td>0.624455</td>\n",
       "    </tr>\n",
       "    <tr>\n",
       "      <th>5</th>\n",
       "      <td>6</td>\n",
       "      <td>0.436567</td>\n",
       "      <td>0.592396</td>\n",
       "      <td>0.640871</td>\n",
       "    </tr>\n",
       "  </tbody>\n",
       "</table>\n",
       "</div>"
      ],
      "text/plain": [
       "   model  loss_train  loss_validation  loss_test\n",
       "0      1    0.432338         0.588341   0.619752\n",
       "1      2    0.491213         0.585775   0.595029\n",
       "2      3    0.555434         0.568445   0.615091\n",
       "3      4    0.453581         0.600387   0.609147\n",
       "4      5    0.479229         0.592444   0.624455\n",
       "5      6    0.436567         0.592396   0.640871"
      ]
     },
     "execution_count": 119,
     "metadata": {
      "tags": []
     },
     "output_type": "execute_result"
    }
   ],
   "source": [
    "pd.read_pickle('models.pkl')"
   ]
  },
  {
   "cell_type": "markdown",
   "metadata": {
    "id": "EMOfq-xL022P"
   },
   "source": [
    "R. De acuerdo con la tabla de evaluaciones se obtuvo que el mejor modelo es el número 2 porque es el tiene menor pérdida para la predicción de las 3 variables objetivo. Esta arquitectura contiene lo siguiente: 1 capa de input, 4 capas ocultas y 1 capa de salida. Con 256, 512, 512 y 256 neuronas en las 4 capas ocultas respectivamente, y con un *batch size* de 16.\n"
   ]
  },
  {
   "cell_type": "markdown",
   "metadata": {
    "id": "it6_sDsKyDtE"
   },
   "source": [
    "4. *Una tabla con el desempeño obtenido con la arquitectura fija y, al menos, 6 optimizadores.*<br>\n",
    "\n",
    "\n"
   ]
  },
  {
   "cell_type": "code",
   "execution_count": 131,
   "metadata": {
    "colab": {
     "base_uri": "https://localhost:8080/",
     "height": 228
    },
    "id": "CgarCbyodSU0",
    "outputId": "a709272a-a5a8-4661-c1d2-c03cbb3a6839"
   },
   "outputs": [
    {
     "data": {
      "text/html": [
       "<div>\n",
       "<style scoped>\n",
       "    .dataframe tbody tr th:only-of-type {\n",
       "        vertical-align: middle;\n",
       "    }\n",
       "\n",
       "    .dataframe tbody tr th {\n",
       "        vertical-align: top;\n",
       "    }\n",
       "\n",
       "    .dataframe thead th {\n",
       "        text-align: right;\n",
       "    }\n",
       "</style>\n",
       "<table border=\"1\" class=\"dataframe\">\n",
       "  <thead>\n",
       "    <tr style=\"text-align: right;\">\n",
       "      <th></th>\n",
       "      <th>model</th>\n",
       "      <th>loss_train</th>\n",
       "      <th>loss_validation</th>\n",
       "      <th>loss_test</th>\n",
       "    </tr>\n",
       "  </thead>\n",
       "  <tbody>\n",
       "    <tr>\n",
       "      <th>0</th>\n",
       "      <td>(1,)</td>\n",
       "      <td>0.405322</td>\n",
       "      <td>0.611365</td>\n",
       "      <td>0.628110</td>\n",
       "    </tr>\n",
       "    <tr>\n",
       "      <th>1</th>\n",
       "      <td>(2,)</td>\n",
       "      <td>0.452410</td>\n",
       "      <td>0.573941</td>\n",
       "      <td>0.605637</td>\n",
       "    </tr>\n",
       "    <tr>\n",
       "      <th>2</th>\n",
       "      <td>(3,)</td>\n",
       "      <td>0.572777</td>\n",
       "      <td>0.578906</td>\n",
       "      <td>0.627453</td>\n",
       "    </tr>\n",
       "    <tr>\n",
       "      <th>3</th>\n",
       "      <td>(4,)</td>\n",
       "      <td>0.640623</td>\n",
       "      <td>0.620448</td>\n",
       "      <td>0.676201</td>\n",
       "    </tr>\n",
       "    <tr>\n",
       "      <th>4</th>\n",
       "      <td>(5,)</td>\n",
       "      <td>0.630123</td>\n",
       "      <td>0.606328</td>\n",
       "      <td>0.662581</td>\n",
       "    </tr>\n",
       "    <tr>\n",
       "      <th>5</th>\n",
       "      <td>(6,)</td>\n",
       "      <td>0.558375</td>\n",
       "      <td>0.562106</td>\n",
       "      <td>0.615570</td>\n",
       "    </tr>\n",
       "  </tbody>\n",
       "</table>\n",
       "</div>"
      ],
      "text/plain": [
       "  model  loss_train  loss_validation  loss_test\n",
       "0  (1,)    0.405322         0.611365   0.628110\n",
       "1  (2,)    0.452410         0.573941   0.605637\n",
       "2  (3,)    0.572777         0.578906   0.627453\n",
       "3  (4,)    0.640623         0.620448   0.676201\n",
       "4  (5,)    0.630123         0.606328   0.662581\n",
       "5  (6,)    0.558375         0.562106   0.615570"
      ]
     },
     "execution_count": 131,
     "metadata": {
      "tags": []
     },
     "output_type": "execute_result"
    }
   ],
   "source": [
    "pd.read_pickle('models_optim.pkl')"
   ]
  },
  {
   "cell_type": "markdown",
   "metadata": {
    "id": "AmI1DEENmLhG"
   },
   "source": [
    "R. De acuerdo con la tabla de resultados, se obtuvo que el mejor optimizador fue el 2, el cual corrresponde al ADAMAX, que de acuerdo a lo comentado en la clase tanto ADAMAX y ADAM son los más utilizados en las aplicaciones por sus mejores desempeños."
   ]
  },
  {
   "cell_type": "markdown",
   "metadata": {
    "id": "0pXEUU3YdQgm"
   },
   "source": [
    "5.*Grafica las curvas de desempeño vs época para el mejor modelo.*<br>\n"
   ]
  },
  {
   "cell_type": "code",
   "execution_count": 136,
   "metadata": {
    "colab": {
     "base_uri": "https://localhost:8080/",
     "height": 334
    },
    "id": "Q78KMoJDdY2s",
    "outputId": "cf8201ef-2d9c-46bb-d665-978225651f6e"
   },
   "outputs": [
    {
     "data": {
      "image/png": "[encoded data removed]",
      "text/plain": [
       "<Figure size 864x360 with 1 Axes>"
      ]
     },
     "metadata": {
      "needs_background": "light",
      "tags": []
     },
     "output_type": "display_data"
    }
   ],
   "source": [
    "# Plot loss (The object MLP keeps track of the training and validation performance)\n",
    "plt.figure(figsize=(12, 5))\n",
    "plt.plot(DNN.history.history['loss'], label='Training', linewidth=2)\n",
    "plt.plot(DNN.history.history['val_loss'], label='Validation', linewidth=2)\n",
    "plt.legend()\n",
    "plt.xlabel('Epoch')\n",
    "plt.ylabel('Loss')\n",
    "plt.grid(True)\n",
    "plt.ylim(ymin=0)\n",
    "plt.show()"
   ]
  },
  {
   "cell_type": "markdown",
   "metadata": {
    "id": "yBPhEfsjqZX5"
   },
   "source": [
    "El desempeño del modelo muestra que no estamos disminuyendo correctamente la pérdida, por lo que se sugiere que se exploren más combianciones de capas, neuronas y *batch size*. "
   ]
  },
  {
   "cell_type": "markdown",
   "metadata": {
    "id": "bS66qRmNdZH_"
   },
   "source": [
    "6.*Incluye  una  explicación sobre  el  efecto  que  hayan  notado  en  el  cambio  de  los  distintos hiperparámetros explorados.*<br>\n",
    " \n",
    "R. \n",
    "+ Notamos que para este problema los modelos que tenían mejor desempeño fueron aquellos con menores capas profundas, entre 2 y 4.\n",
    "+ Con un número pequeño de *batch size* el resultado fue invariante.\n",
    "+ Se notó un desempeño distinto al pronosticar 3 variables de respecto al modelo base de la clase de 2 variables predicitivas; para el primero se obtuvo un error en test alrededor de .55, mientras que para el otro caso de 2 variables fue de .20.\n",
    "\n",
    "\n",
    "\n",
    "7.*Comenta tus conclusiones.* <br>\n",
    "R. El modelo bajo distintas arquitecturas muestra un resultado similar apesar de cambiar el número de capas, neuronas y *batch size*. Adicionalmente, probamos con diferentes número de variables independientes(x) y se obtuvieron desempeños similares no muy asertivos.\n"
   ]
  }
 ],
 "metadata": {
  "accelerator": "GPU",
  "colab": {
   "collapsed_sections": [],
   "name": "MiniProyecto_02.ipynb",
   "provenance": []
  },
  "kernelspec": {
   "display_name": "Python 3",
   "language": "python",
   "name": "python3"
  },
  "language_info": {
   "codemirror_mode": {
    "name": "ipython",
    "version": 3
   },
   "file_extension": ".py",
   "mimetype": "text/x-python",
   "name": "python",
   "nbconvert_exporter": "python",
   "pygments_lexer": "ipython3",
   "version": "3.8.3"
  }
 },
 "nbformat": 4,
 "nbformat_minor": 1
}
